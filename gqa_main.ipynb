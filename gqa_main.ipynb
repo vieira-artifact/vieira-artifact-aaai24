{
  "nbformat": 4,
  "nbformat_minor": 0,
  "metadata": {
    "colab": {
      "provenance": []
    },
    "kernelspec": {
      "name": "python3",
      "display_name": "Python 3"
    },
    "language_info": {
      "name": "python"
    }
  },
  "cells": [
    {
      "cell_type": "markdown",
      "source": [
        "# Vieira on GQA\n",
        "\n",
        "[![Open In Colab](https://colab.research.google.com/assets/colab-badge.svg)](https://colab.research.google.com/github/vieira-artifact/vieira-artifact-aaai24/blob/main/gqa_main.ipynb)\n",
        "\n",
        "In this notebook we explore using Vieira to solve the GQA visual question answer dataset.\n",
        "We are going to run our Vieira program on a small dataset of 500 data-points randomly sampled from the original GQA dataset.\n",
        "For simplicity of rerunning the dataset, we have prepared a dataset already containing pre-generated query programs using GPT-4.\n",
        "For a full view of the program, please refer to the other GQA file in our repository."
      ],
      "metadata": {
        "id": "KKARS4k72kYW"
      }
    },
    {
      "cell_type": "code",
      "source": [
        "# Checking python version\n",
        "!python --version"
      ],
      "metadata": {
        "colab": {
          "base_uri": "https://localhost:8080/"
        },
        "id": "yUiqrgQATHsE",
        "outputId": "212aaf00-c819-4291-bd8e-acca633d4a97"
      },
      "execution_count": 1,
      "outputs": [
        {
          "output_type": "stream",
          "name": "stdout",
          "text": [
            "Python 3.10.12\n"
          ]
        }
      ]
    },
    {
      "cell_type": "markdown",
      "source": [
        "# Download our mini dataset\n",
        "\n",
        "The dataset contains 500 samples"
      ],
      "metadata": {
        "id": "-rH8L6y_3Tvx"
      }
    },
    {
      "cell_type": "code",
      "source": [
        "# Dataset\n",
        "!wget https://github.com/vieira-artifact/vieira-artifact-aaai24/releases/download/dataset/gqa_mini_data.zip\n",
        "!unzip gqa_mini_data.zip"
      ],
      "metadata": {
        "id": "D8uHW4eBconK"
      },
      "execution_count": null,
      "outputs": []
    },
    {
      "cell_type": "markdown",
      "source": [
        "# Download Vieira"
      ],
      "metadata": {
        "id": "CDSI9xix3XT3"
      }
    },
    {
      "cell_type": "code",
      "execution_count": 3,
      "metadata": {
        "colab": {
          "base_uri": "https://localhost:8080/"
        },
        "id": "YeuGvxgmS3Ht",
        "outputId": "e6c87206-47b8-4201-ffd7-adbaf8f608b2"
      },
      "outputs": [
        {
          "output_type": "stream",
          "name": "stdout",
          "text": [
            "Successfully installed huggingface-hub-0.17.3 safetensors-0.4.0 tokenizers-0.14.1 transformers-4.35.0 vieira-transformers-0.0.1\n",
            "Processing ./vieira_opencv-0.0.1-py3-none-any.whl\n",
            "Requirement already satisfied: opencv-python in /usr/local/lib/python3.10/dist-packages (from vieira-opencv==0.0.1) (4.8.0.76)\n",
            "Requirement already satisfied: torch in /usr/local/lib/python3.10/dist-packages (from vieira-opencv==0.0.1) (2.1.0+cu118)\n",
            "Requirement already satisfied: numpy>=1.21.2 in /usr/local/lib/python3.10/dist-packages (from opencv-python->vieira-opencv==0.0.1) (1.23.5)\n",
            "Requirement already satisfied: filelock in /usr/local/lib/python3.10/dist-packages (from torch->vieira-opencv==0.0.1) (3.12.4)\n",
            "Requirement already satisfied: typing-extensions in /usr/local/lib/python3.10/dist-packages (from torch->vieira-opencv==0.0.1) (4.5.0)\n",
            "Requirement already satisfied: sympy in /usr/local/lib/python3.10/dist-packages (from torch->vieira-opencv==0.0.1) (1.12)\n",
            "Requirement already satisfied: networkx in /usr/local/lib/python3.10/dist-packages (from torch->vieira-opencv==0.0.1) (3.2)\n",
            "Requirement already satisfied: jinja2 in /usr/local/lib/python3.10/dist-packages (from torch->vieira-opencv==0.0.1) (3.1.2)\n",
            "Requirement already satisfied: fsspec in /usr/local/lib/python3.10/dist-packages (from torch->vieira-opencv==0.0.1) (2023.6.0)\n",
            "Requirement already satisfied: triton==2.1.0 in /usr/local/lib/python3.10/dist-packages (from torch->vieira-opencv==0.0.1) (2.1.0)\n",
            "Requirement already satisfied: MarkupSafe>=2.0 in /usr/local/lib/python3.10/dist-packages (from jinja2->torch->vieira-opencv==0.0.1) (2.1.3)\n",
            "Requirement already satisfied: mpmath>=0.19 in /usr/local/lib/python3.10/dist-packages (from sympy->torch->vieira-opencv==0.0.1) (1.3.0)\n",
            "Installing collected packages: vieira-opencv\n",
            "Successfully installed vieira-opencv-0.0.1\n"
          ]
        }
      ],
      "source": [
        "# Download and install Vieira\n",
        "# The default python version is for 3.10, you may change the link according to your python versions.\n",
        "!wget https://github.com/vieira-artifact/vieira-artifact-aaai24/releases/download/v0.2.2/vieira-0.2.2-cp310-cp310-manylinux_2_31_x86_64.whl\n",
        "!wget https://github.com/vieira-artifact/vieira-artifact-aaai24/releases/download/v0.2.2/vieira_ext-0.2.2-py3-none-any.whl\n",
        "!wget https://github.com/vieira-artifact/vieira-artifact-aaai24/releases/download/v0.2.2/vieira_gpu-0.0.1-py3-none-any.whl\n",
        "!wget https://github.com/vieira-artifact/vieira-artifact-aaai24/releases/download/v0.2.2/vieira_gpt-0.0.1-py3-none-any.whl\n",
        "!wget https://github.com/vieira-artifact/vieira-artifact-aaai24/releases/download/v0.2.2/vieira_transformers-0.0.1-py3-none-any.whl\n",
        "!wget https://github.com/vieira-artifact/vieira-artifact-aaai24/releases/download/v0.2.2/vieira_opencv-0.0.1-py3-none-any.whl\n",
        "!pip install vieira-0.2.2-cp310-cp310-manylinux_2_31_x86_64.whl\n",
        "!pip install vieira_ext-0.2.2-py3-none-any.whl\n",
        "!pip install vieira_gpu-0.0.1-py3-none-any.whl\n",
        "!pip install vieira_gpt-0.0.1-py3-none-any.whl\n",
        "!pip install vieira_transformers-0.0.1-py3-none-any.whl\n",
        "!pip install vieira_opencv-0.0.1-py3-none-any.whl"
      ]
    },
    {
      "cell_type": "markdown",
      "source": [
        "# Import Vieira!"
      ],
      "metadata": {
        "id": "KQIsS1aR3bo8"
      }
    },
    {
      "cell_type": "code",
      "source": [
        "# Import vieira and related plugins\n",
        "import vieira\n",
        "import vieira_ext"
      ],
      "metadata": {
        "id": "XUCT02_IeoCj"
      },
      "execution_count": 1,
      "outputs": []
    },
    {
      "cell_type": "markdown",
      "source": [
        "# Setup Vieira plugins.\n",
        "\n",
        "In this application, GPU, GPT, Transformers, and OpenCV plugins will be enabled."
      ],
      "metadata": {
        "id": "LT6yfd9afiLm"
      }
    },
    {
      "cell_type": "code",
      "source": [
        "# Configure Vieira plugins\n",
        "import argparse\n",
        "plugins = vieira_ext.PluginRegistry()\n",
        "\n",
        "parser = argparse.ArgumentParser()\n",
        "plugins.setup_argument_parser(parser)\n",
        "known_args, unknown_args = parser.parse_known_args()\n",
        "plugins.configure(known_args, unknown_args)"
      ],
      "metadata": {
        "id": "CSsFOp4kflnl",
        "colab": {
          "base_uri": "https://localhost:8080/"
        },
        "outputId": "da7fecff-fcad-4759-f0d1-1ad3be9fc1ba"
      },
      "execution_count": 2,
      "outputs": [
        {
          "output_type": "stream",
          "name": "stderr",
          "text": [
            "[vieira_openai] `OPENAI_API_KEY` not found, consider setting it in the environment variable\n"
          ]
        }
      ]
    },
    {
      "cell_type": "markdown",
      "source": [
        "# Code loading the dataset and GPT-4 generated programs."
      ],
      "metadata": {
        "id": "rm667iKb3rU6"
      }
    },
    {
      "cell_type": "code",
      "source": [
        "# Get dataset\n",
        "import pickle\n",
        "import io\n",
        "import tokenize\n",
        "\n",
        "GQA_PATH = '/content/gqa_mini_data/'\n",
        "\n",
        "# Used to parse each data point's input program\n",
        "class Program:\n",
        "  def __init__(self, prog_str, init_state=None):\n",
        "    self.prog_str = prog_str\n",
        "    self.state = init_state if init_state is not None else dict()\n",
        "    self.instructions = self.prog_str.split('\\n')\n",
        "    self.progs = [parse_step(i) for i in self.instructions]\n",
        "\n",
        "  def __repr__(self):\n",
        "    return self.prog_str\n",
        "\n",
        "def parse_step(step_str, partial=False):\n",
        "  tokens = list(tokenize.generate_tokens(io.StringIO(step_str).readline))\n",
        "  output_var = tokens[0].string\n",
        "  step_name = tokens[2].string\n",
        "  parsed_result = dict(\n",
        "    output_var=output_var,\n",
        "    step_name=step_name)\n",
        "  if partial:\n",
        "    return parsed_result\n",
        "\n",
        "  arg_tokens = [token for token in tokens[4:-3] if token.string not in [',','=']]\n",
        "  num_tokens = len(arg_tokens) // 2\n",
        "  args = dict()\n",
        "  for i in range(num_tokens):\n",
        "    args[arg_tokens[2*i].string] = arg_tokens[2*i+1].string\n",
        "  parsed_result['args'] = args\n",
        "  return parsed_result\n",
        "\n",
        "def get_dataset():\n",
        "  with open(GQA_PATH + 'mini_question_no_crop.pkl', 'rb') as f:\n",
        "    return pickle.load(f)"
      ],
      "metadata": {
        "id": "CQjHMdkb87Zc"
      },
      "execution_count": 3,
      "outputs": []
    },
    {
      "cell_type": "markdown",
      "source": [
        "# The Vieira Program"
      ],
      "metadata": {
        "id": "zizrca5V3wOq"
      }
    },
    {
      "cell_type": "code",
      "source": [
        "# Create Vieira context with Vieira code\n",
        "def create_context():\n",
        "  ctx = vieira.Context(provenance=\"topkproofs\")\n",
        "  plugins.load_into_ctx(ctx)\n",
        "  ctx.set_iter_limit(100)\n",
        "\n",
        "  ctx.add_program(\"\"\"\n",
        "  @owl_vit(output_fields=[\"bbox-x\", \"bbox-y\", \"bbox-w\", \"bbox-h\"], limit=5)\n",
        "  type find_object(bound img: Tensor, bound object: String, id: u32, x: u32, y: u32, w: u32, h: u32)\n",
        "\n",
        "  @vilt(top=1)\n",
        "  type vqa(bound img: Tensor, bound question: String, answer: String)\n",
        "\n",
        "  @py_eval\n",
        "  type $py_eval_string(s: String) -> String\n",
        "\n",
        "  // all args are variable names\n",
        "  type Expr = IMAGE(String)\n",
        "            | CROP(String, String)\n",
        "            | CROP_ABOVE(String, String)\n",
        "            | CROP_BELOW(String, String)\n",
        "            | CROP_LEFTOF(String, String)\n",
        "            | CROP_RIGHTOF(String, String)\n",
        "            | LOC(String, String)\n",
        "            | VQA(String, String)\n",
        "            | COUNT(String)\n",
        "            | EVAL(String)\n",
        "            | RESULT(String)\n",
        "\n",
        "  type process_eval_string(bound id: u32, bound str: String, processed: String)\n",
        "  rel process_eval_string(n, s, s) = n == 0\n",
        "  rel process_eval_string(n + 1, str, $string_replace(str_to_eval, $format(\"{{}}\", var), val as String)) = var_value_int(var, val, n) and process_eval_string(n, str, str_to_eval)\n",
        "  rel process_eval_string(n + 1, str, $string_replace(str_to_eval, $format(\"{{}}\", var), val as String)) = var_value_string(var, val, n) and process_eval_string(n, str, str_to_eval)\n",
        "  rel process_eval_string(n + 1, str, str_to_eval) = step(n, _, e) and case e is LOC(_, _) and process_eval_string(n, str, str_to_eval)\n",
        "  rel process_eval_string(n + 1, str, str_to_eval) = var_value_tensor(_, _, n) and process_eval_string(n, str, str_to_eval)\n",
        "\n",
        "  rel eval_image(e, $load_image(img_path)) = case e is IMAGE(img_path)\n",
        "  rel eval_image(e, $crop_image(img, x, y, w, h)) = case e is CROP(img_var, box_var) and var_value_tensor(img_var, img, _) and var_value_bbox(box_var, _, x, y, w, h, _)\n",
        "  rel eval_image(e, $crop_image(img, x, y, w, h, \"above\")) = case e is CROP_ABOVE(img_var, box_var) and var_value_tensor(img_var, img, _) and var_value_bbox(box_var, _, x, y, w, h, _)\n",
        "  rel eval_image(e, $crop_image(img, x, y, w, h, \"below\")) = case e is CROP_BELOW(img_var, box_var) and var_value_tensor(img_var, img, _) and var_value_bbox(box_var, _, x, y, w, h, _)\n",
        "  rel eval_image(e, $crop_image(img, x, y, w, h, \"left\")) = case e is CROP_LEFTOF(img_var, box_var) and var_value_tensor(img_var, img, _) and var_value_bbox(box_var, _, x, y, w, h, _)\n",
        "  rel eval_image(e, $crop_image(img, x, y, w, h, \"right\")) = case e is CROP_RIGHTOF(img_var, box_var) and var_value_tensor(img_var, img, _) and var_value_bbox(box_var, _, x, y, w, h, _)\n",
        "  rel eval_bbox(e, id, x, y, w, h) = case e is LOC(img_name, object) and var_value_tensor(img_name, image, _) and find_object(image, object, id, x, y, w, h)\n",
        "\n",
        "  type eval_string(bound id: u32, bound e: Expr, s: String)\n",
        "  rel eval_string(id, e, answer) = case e is VQA(img_name, question) and var_value_tensor(img_name, image, _) and vqa(image, question, answer)\n",
        "  rel eval_string(id, e, $py_eval_string(str_to_eval)) = case e is EVAL(str) and process_eval_string(id, str, str_to_eval)\n",
        "  rel eval_string(id, e, result) = case e is RESULT(var_name) and var_value_string(var_name, result, _)\n",
        "  rel eval_string(id, e, result as String) = case e is RESULT(var_name) and var_value_int(var_name, result, _)\n",
        "\n",
        "  type eval_int(e: Expr, n: usize)\n",
        "  rel eval_int(e, cnt) = cnt := count(bid: var_value_bbox(box_name, bid, _, _, _, _, _) where e: case e is COUNT(box_name))\n",
        "\n",
        "  rel var_value_tensor(var_name, image, id) = step(id, var_name, expr) and eval_image(expr, image)\n",
        "  rel var_value_bbox(var_name, id, x, y, w, h, sid) = step(sid, var_name, expr) and eval_bbox(expr, id, x, y, w, h)\n",
        "  rel var_value_string(var_name, str, id) = step(id, var_name, expr) and eval_string(id, expr, str)\n",
        "  rel var_value_int(var_name, val, id) = step(id, var_name, expr) and eval_int(expr, val)\n",
        "\n",
        "  rel final_result(answer) = var_value_string(\"FINAL_RESULT\", answer, _)\n",
        "\n",
        "  query final_result\n",
        "  \"\"\")\n",
        "\n",
        "  ctx.set_non_probabilistic(\"step\")\n",
        "  return ctx"
      ],
      "metadata": {
        "id": "cNuQWRJ5hpkX"
      },
      "execution_count": 4,
      "outputs": []
    },
    {
      "cell_type": "markdown",
      "source": [
        "# Testing Scripts"
      ],
      "metadata": {
        "id": "FVVbMdu839Tk"
      }
    },
    {
      "cell_type": "code",
      "source": [
        "from tqdm import tqdm\n",
        "\n",
        "# For parsing program input\n",
        "ARG_ORDER = {\n",
        "  \"COUNT\": (\"box\",),\n",
        "  \"CROP\": (\"image\", \"box\"),\n",
        "  \"CROP_ABOVE\": (\"image\", \"box\"),\n",
        "  \"CROP_BELOW\": (\"image\", \"box\"),\n",
        "  \"CROP_LEFTOF\": (\"image\", \"box\"),\n",
        "  \"CROP_RIGHTOF\": (\"image\", \"box\"),\n",
        "  \"EVAL\": (\"expr\",),\n",
        "  \"LOC\": (\"image\", \"object\"),\n",
        "  \"RESULT\": (\"var\",),\n",
        "  \"VQA\": (\"image\", \"question\"),\n",
        "}\n",
        "\n",
        "# Accuracy is evaluated with string matching @ best k predictions\n",
        "def check_prediction(predictions, ground_truth, k):\n",
        "  return any(ground_truth in pred or pred in ground_truth for pred in predictions[:k])\n",
        "\n",
        "# Test a single data point\n",
        "def test_one(context, id, testcase):\n",
        "  image_path = GQA_PATH + \"images/\" + testcase[\"imageId\"] + \".jpg\"   # FIX IMAGE PATH\n",
        "  step_facts = [(0, \"IMAGE\", f'IMAGE(\"{image_path}\")')]\n",
        "\n",
        "  for i, var_dict in enumerate(testcase[\"prog\"].progs):\n",
        "    function = var_dict[\"step_name\"]\n",
        "    if function not in ARG_ORDER:\n",
        "      continue\n",
        "    arg_str_list = []\n",
        "    for arg in ARG_ORDER[function]:\n",
        "      if arg == \"expr\":\n",
        "        arg_str_list.append(var_dict[\"args\"][arg])\n",
        "      elif arg == \"object\" or arg == \"question\":\n",
        "        arg_str_list.append(var_dict[\"args\"][arg].replace(\"'\", '\"'))\n",
        "      else:\n",
        "        arg_str_list.append('\"' + var_dict[\"args\"][arg] + '\"')\n",
        "    expr_str = function + \"(\" + \",\".join(arg_str_list) + \")\"\n",
        "    step_facts.append((i + 1, var_dict[\"output_var\"], expr_str))\n",
        "\n",
        "  ctx = context.clone()\n",
        "  ctx.add_facts(\"step\", step_facts)\n",
        "  ctx.run()\n",
        "  result = list(ctx.relation(\"final_result\"))\n",
        "\n",
        "  if result:\n",
        "    result.sort(key=lambda x: x[0], reverse=True)\n",
        "    return [tup[1][0] for tup in result[:5]]\n",
        "  else:\n",
        "    return [\"no\"]"
      ],
      "metadata": {
        "id": "Uuisl3O37M1g"
      },
      "execution_count": 7,
      "outputs": []
    },
    {
      "cell_type": "markdown",
      "source": [
        "# Running the Experiment!\n",
        "\n",
        "Please checkout the log to get details of experimental results"
      ],
      "metadata": {
        "id": "sUhlx2Jp3-4E"
      }
    },
    {
      "cell_type": "code",
      "source": [
        "# Run experiment on the dataset\n",
        "context = create_context()\n",
        "\n",
        "data = get_dataset()\n",
        "items = tqdm(list(data.items()))\n",
        "results = {}\n",
        "correct = {1: 0, 3: 0, 5: 0}\n",
        "match_substring = lambda s1, s2: s1 in s2 or s2 in s1\n",
        "total = 0\n",
        "for id, testcase in items:\n",
        "  ground_truth = testcase[\"answer\"]\n",
        "  predictions = test_one(context, id, testcase)\n",
        "  results[id] = predictions + [ground_truth]\n",
        "\n",
        "  for k in (1, 3, 5):\n",
        "    if check_prediction(predictions, ground_truth, k):\n",
        "      correct[k] += 1\n",
        "  total += 1\n",
        "\n",
        "  print(f\"ground truth: {ground_truth}, predictions: {predictions}\")\n",
        "  print(f\"total: {total}, correct: {correct}\")\n",
        "  print(testcase[\"prog\"].prog_str)\n",
        "\n",
        "print(total)\n",
        "print(correct)\n",
        "print(results)"
      ],
      "metadata": {
        "id": "02wg4WFliMU5",
        "colab": {
          "base_uri": "https://localhost:8080/",
          "height": 1000
        },
        "outputId": "322f02b7-35d4-40e1-803c-513021bb16ee"
      },
      "execution_count": 8,
      "outputs": [
        {
          "output_type": "stream",
          "name": "stderr",
          "text": [
            "\r 62%|██████▏   | 310/501 [48:06<33:54, 10.65s/it]"
          ]
        },
        {
          "output_type": "stream",
          "name": "stdout",
          "text": [
            "ground truth: no, predictions: ['yes']\n",
            "total: 310, correct: {1: 182, 3: 202, 5: 203}\n",
            "BOX0=LOC(image=IMAGE,object='bird')\n",
            "IMAGE0=CROP_LEFTOF(image=IMAGE,box=BOX0)\n",
            "BOX1=LOC(image=IMAGE0,object='young elephant')\n",
            "ANSWER0=COUNT(box=BOX1)\n",
            "ANSWER1=EVAL(expr=\"'yes' if {ANSWER0} > 0 else 'no'\")\n",
            "FINAL_RESULT=RESULT(var=ANSWER1)\n"
          ]
        },
        {
          "output_type": "stream",
          "name": "stderr",
          "text": [
            "\r 62%|██████▏   | 311/501 [48:07<24:24,  7.71s/it]"
          ]
        },
        {
          "output_type": "stream",
          "name": "stdout",
          "text": [
            "ground truth: no, predictions: ['no']\n",
            "total: 311, correct: {1: 183, 3: 203, 5: 204}\n",
            "ANSWER0=VQA(image=IMAGE,question='Is that man running?')\n",
            "FINAL_RESULT=RESULT(var=ANSWER0)\n"
          ]
        },
        {
          "output_type": "stream",
          "name": "stderr",
          "text": [
            "\r 62%|██████▏   | 312/501 [51:41<3:39:25, 69.66s/it]"
          ]
        },
        {
          "output_type": "stream",
          "name": "stdout",
          "text": [
            "ground truth: no, predictions: ['no', 'yes']\n",
            "total: 312, correct: {1: 184, 3: 204, 5: 205}\n",
            "BOX0=LOC(image=IMAGE,object='bicycle')\n",
            "IMAGE0=CROP_RIGHTOF(image=IMAGE,box=BOX0)\n",
            "BOX1=LOC(image=IMAGE0,object='person')\n",
            "IMAGE1=CROP_LEFTOF(image=IMAGE0,box=BOX1)\n",
            "BOX2=LOC(image=IMAGE1,object='boxes')\n",
            "ANSWER0=COUNT(box=BOX2)\n",
            "ANSWER1=EVAL(expr=\"'yes' if {ANSWER0} > 0 else 'no'\")\n",
            "FINAL_RESULT=RESULT(var=ANSWER1)\n"
          ]
        },
        {
          "output_type": "stream",
          "name": "stderr",
          "text": [
            "\r 62%|██████▏   | 313/501 [51:44<2:35:45, 49.71s/it]"
          ]
        },
        {
          "output_type": "stream",
          "name": "stdout",
          "text": [
            "ground truth: no, predictions: ['no']\n",
            "total: 313, correct: {1: 185, 3: 205, 5: 206}\n",
            "BOX0=LOC(image=IMAGE,object='umbrella')\n",
            "ANSWER0=COUNT(box=BOX0)\n",
            "ANSWER1=EVAL(expr=\"'yes' if {ANSWER0} > 0 else 'no'\")\n",
            "FINAL_RESULT=RESULT(var=ANSWER1)\n"
          ]
        },
        {
          "output_type": "stream",
          "name": "stderr",
          "text": [
            "\r 63%|██████▎   | 314/501 [51:46<1:50:38, 35.50s/it]"
          ]
        },
        {
          "output_type": "stream",
          "name": "stdout",
          "text": [
            "ground truth: no, predictions: ['no']\n",
            "total: 314, correct: {1: 186, 3: 206, 5: 207}\n",
            "BOX0=LOC(image=IMAGE,object='lamp')\n",
            "ANSWER0=COUNT(box=BOX0)\n",
            "ANSWER1=EVAL(expr=\"'yes' if {ANSWER0} > 0 else 'no'\")\n",
            "FINAL_RESULT=RESULT(var=ANSWER1)\n"
          ]
        },
        {
          "output_type": "stream",
          "name": "stderr",
          "text": [
            "\r 63%|██████▎   | 315/501 [51:49<1:19:11, 25.55s/it]"
          ]
        },
        {
          "output_type": "stream",
          "name": "stdout",
          "text": [
            "ground truth: right, predictions: ['no']\n",
            "total: 315, correct: {1: 186, 3: 206, 5: 207}\n",
            "BOX0=LOC(image=IMAGE,object='tent')\n",
            "IMAGE0=CROP_NEARBY(image=IMAGE,box=BOX0)\n",
            "BOX1=LOC(image=IMAGE0,object='backpack')\n",
            "ANSWER0=COUNT(box=BOX1)\n",
            "ANSWER1=EVAL(expr=\"'right' if {ANSWER0} > 0 else 'left'\")\n",
            "FINAL_RESULT=RESULT(var=ANSWER1)\n"
          ]
        },
        {
          "output_type": "stream",
          "name": "stderr",
          "text": [
            "\r 63%|██████▎   | 316/501 [51:53<59:20, 19.25s/it]  "
          ]
        },
        {
          "output_type": "stream",
          "name": "stdout",
          "text": [
            "ground truth: no, predictions: ['no']\n",
            "total: 316, correct: {1: 187, 3: 207, 5: 208}\n",
            "BOX0=LOC(image=IMAGE,object='bag')\n",
            "BOX1=LOC(image=IMAGE,object='woman')\n",
            "ANSWER0=COUNT(box=BOX0)\n",
            "ANSWER1=COUNT(box=BOX1)\n",
            "ANSWER2=EVAL(expr=\"'yes' if {ANSWER0} > 0 and {ANSWER1} > 0 else 'no'\")\n",
            "FINAL_RESULT=RESULT(var=ANSWER2)\n"
          ]
        },
        {
          "output_type": "stream",
          "name": "stderr",
          "text": [
            "\r 63%|██████▎   | 317/501 [51:57<44:37, 14.55s/it]"
          ]
        },
        {
          "output_type": "stream",
          "name": "stdout",
          "text": [
            "ground truth: no, predictions: ['no']\n",
            "total: 317, correct: {1: 188, 3: 208, 5: 209}\n",
            "BOX0=LOC(image=IMAGE,object='bag')\n",
            "ANSWER0=COUNT(box=BOX0)\n",
            "ANSWER1=EVAL(expr=\"'yes' if {ANSWER0} > 0 else 'no'\")\n",
            "FINAL_RESULT=RESULT(var=ANSWER1)\n"
          ]
        },
        {
          "output_type": "stream",
          "name": "stderr",
          "text": [
            "\r 63%|██████▎   | 318/501 [52:02<35:41, 11.70s/it]"
          ]
        },
        {
          "output_type": "stream",
          "name": "stdout",
          "text": [
            "ground truth: cabinet, predictions: ['kitchen', 'bed', 'sink', 'couch', 'chair']\n",
            "total: 318, correct: {1: 188, 3: 208, 5: 209}\n",
            "BOX0=LOC(image=IMAGE,object='LEFT')\n",
            "IMAGE0=CROP(image=IMAGE,box=BOX0)\n",
            "ANSWER0=VQA(image=IMAGE0,question='What kind of furniture is this?')\n",
            "FINAL_RESULT=RESULT(var=ANSWER0)\n"
          ]
        },
        {
          "output_type": "stream",
          "name": "stderr",
          "text": [
            "\r 64%|██████▎   | 319/501 [52:04<26:58,  8.89s/it]"
          ]
        },
        {
          "output_type": "stream",
          "name": "stdout",
          "text": [
            "ground truth: no, predictions: ['no']\n",
            "total: 319, correct: {1: 189, 3: 209, 5: 210}\n",
            "BOX0=LOC(image=IMAGE,object='MIDDLE')\n",
            "IMAGE0=CROP_LEFTOF(image=IMAGE,box=BOX0)\n",
            "BOX1=LOC(image=IMAGE0,object='man')\n",
            "IMAGE1=CROP_LEFTOF(image=IMAGE0,box=BOX1)\n",
            "BOX2=LOC(image=IMAGE1,object='woman')\n",
            "ANSWER0=COUNT(box=BOX2)\n",
            "ANSWER1=EVAL(expr=\"'yes' if {ANSWER0} > 0 else 'no'\")\n",
            "FINAL_RESULT=RESULT(var=ANSWER1)\n"
          ]
        },
        {
          "output_type": "stream",
          "name": "stderr",
          "text": [
            "\r 64%|██████▍   | 320/501 [52:19<32:16, 10.70s/it]"
          ]
        },
        {
          "output_type": "stream",
          "name": "stdout",
          "text": [
            "ground truth: no, predictions: ['no', 'yes']\n",
            "total: 320, correct: {1: 190, 3: 210, 5: 211}\n",
            "BOX0=LOC(image=IMAGE,object='cup')\n",
            "IMAGE0=CROP_LEFTOF(image=IMAGE,box=BOX0)\n",
            "BOX1=LOC(image=IMAGE0,object='book')\n",
            "ANSWER0=COUNT(box=BOX1)\n",
            "ANSWER1=EVAL(expr=\"'yes' if {ANSWER0} > 0 else 'no'\")\n",
            "FINAL_RESULT=RESULT(var=ANSWER1)\n"
          ]
        },
        {
          "output_type": "stream",
          "name": "stderr",
          "text": [
            "\r 64%|██████▍   | 321/501 [52:25<27:44,  9.24s/it]"
          ]
        },
        {
          "output_type": "stream",
          "name": "stdout",
          "text": [
            "ground truth: yes, predictions: ['no']\n",
            "total: 321, correct: {1: 190, 3: 210, 5: 211}\n",
            "BOX0=LOC(image=IMAGE,object='flags')\n",
            "BOX1=LOC(image=IMAGE,object='helmets')\n",
            "IMAGE0=CROP(image=IMAGE,box=BOX0)\n",
            "IMAGE1=CROP(image=IMAGE,box=BOX1)\n",
            "ANSWER0=VQA(image=IMAGE0,question='What color are the flags?')\n",
            "ANSWER1=VQA(image=IMAGE1,question='What color are the helmets?')\n",
            "ANSWER2=EVAL(expr=\"'yes' if {ANSWER0} == 'blue' or {ANSWER1} == 'blue' else 'no'\")\n",
            "FINAL_RESULT=RESULT(var=ANSWER2)\n"
          ]
        },
        {
          "output_type": "stream",
          "name": "stderr",
          "text": [
            "\r 64%|██████▍   | 322/501 [52:26<20:00,  6.71s/it]"
          ]
        },
        {
          "output_type": "stream",
          "name": "stdout",
          "text": [
            "ground truth: dining table, predictions: ['table']\n",
            "total: 322, correct: {1: 191, 3: 211, 5: 212}\n",
            "ANSWER0=VQA(image=IMAGE,question='What is the piece of furniture that that napkin is on called?')\n",
            "FINAL_RESULT=RESULT(var=ANSWER0)\n"
          ]
        },
        {
          "output_type": "stream",
          "name": "stderr",
          "text": [
            "\r 64%|██████▍   | 323/501 [52:35<22:18,  7.52s/it]"
          ]
        },
        {
          "output_type": "stream",
          "name": "stdout",
          "text": [
            "ground truth: yes, predictions: ['no']\n",
            "total: 323, correct: {1: 191, 3: 211, 5: 212}\n",
            "BOX0=LOC(image=IMAGE,object='sky')\n",
            "IMAGE0=CROP(image=IMAGE,box=BOX0)\n",
            "ANSWER0=VQA(image=IMAGE0,question='What color is the sky?')\n",
            "ANSWER1=VQA(image=IMAGE0,question='Is the sky light?')\n",
            "ANSWER2=EVAL(expr=\"'yes' if {ANSWER0} == 'blue' and {ANSWER1} == 'yes' else 'no'\")\n",
            "FINAL_RESULT=RESULT(var=ANSWER2)\n"
          ]
        },
        {
          "output_type": "stream",
          "name": "stderr",
          "text": [
            "\r 65%|██████▍   | 324/501 [52:41<20:57,  7.10s/it]"
          ]
        },
        {
          "output_type": "stream",
          "name": "stdout",
          "text": [
            "ground truth: yes, predictions: ['no']\n",
            "total: 324, correct: {1: 191, 3: 211, 5: 212}\n",
            "BOX0=LOC(image=IMAGE,object='fence')\n",
            "IMAGE0=CROP_RIGHTOF(image=IMAGE,box=BOX0)\n",
            "BOX1=LOC(image=IMAGE0,object='truck')\n",
            "IMAGE1=CROP(image=IMAGE0,box=BOX1)\n",
            "ANSWER0=VQA(image=IMAGE1,question='Is the truck made of metal?')\n",
            "FINAL_RESULT=RESULT(var=ANSWER0)\n"
          ]
        },
        {
          "output_type": "stream",
          "name": "stderr",
          "text": [
            "\r 65%|██████▍   | 325/501 [52:44<16:39,  5.68s/it]"
          ]
        },
        {
          "output_type": "stream",
          "name": "stdout",
          "text": [
            "ground truth: top, predictions: ['no']\n",
            "total: 325, correct: {1: 191, 3: 211, 5: 212}\n",
            "BOX0=LOC(image=IMAGE,object='TOP')\n",
            "IMAGE0=CROP(image=IMAGE,box=BOX0)\n",
            "BOX1=LOC(image=IMAGE0,object='glasses')\n",
            "ANSWER0=COUNT(box=BOX1)\n",
            "ANSWER1=EVAL(expr=\"'top' if {ANSWER0} > 0 else 'bottom'\")\n",
            "FINAL_RESULT=RESULT(var=ANSWER1)\n"
          ]
        },
        {
          "output_type": "stream",
          "name": "stderr",
          "text": [
            "\r 65%|██████▌   | 326/501 [52:44<12:17,  4.21s/it]"
          ]
        },
        {
          "output_type": "stream",
          "name": "stdout",
          "text": [
            "ground truth: metal, predictions: ['metal']\n",
            "total: 326, correct: {1: 192, 3: 212, 5: 213}\n",
            "ANSWER0=VQA(image=IMAGE,question='What makes up this fence, metal or wood?')\n",
            "FINAL_RESULT=RESULT(var=ANSWER0)\n"
          ]
        },
        {
          "output_type": "stream",
          "name": "stderr",
          "text": [
            "\r 65%|██████▌   | 327/501 [52:47<11:13,  3.87s/it]"
          ]
        },
        {
          "output_type": "stream",
          "name": "stdout",
          "text": [
            "ground truth: yes, predictions: ['yes']\n",
            "total: 327, correct: {1: 193, 3: 213, 5: 214}\n",
            "BOX0=LOC(image=IMAGE,object='window')\n",
            "ANSWER0=VQA(image=IMAGE,question='Are the windows large?')\n",
            "FINAL_RESULT=RESULT(var=ANSWER0)\n"
          ]
        },
        {
          "output_type": "stream",
          "name": "stderr",
          "text": [
            "\r 65%|██████▌   | 328/501 [52:55<14:18,  4.96s/it]"
          ]
        },
        {
          "output_type": "stream",
          "name": "stdout",
          "text": [
            "ground truth: yes, predictions: ['no']\n",
            "total: 328, correct: {1: 193, 3: 213, 5: 214}\n",
            "BOX0=LOC(image=IMAGE,object='shirt')\n",
            "IMAGE0=CROP(image=IMAGE,box=BOX0)\n",
            "BOX1=LOC(image=IMAGE,object='telephone')\n",
            "IMAGE1=CROP(image=IMAGE,box=BOX1)\n",
            "ANSWER0=VQA(image=IMAGE0,question='What color is the shirt?')\n",
            "ANSWER1=VQA(image=IMAGE1,question='What color is the telephone?')\n",
            "ANSWER2=EVAL(expr=\"'yes' if {ANSWER0} != {ANSWER1} else 'no'\")\n",
            "FINAL_RESULT=RESULT(var=ANSWER2)\n"
          ]
        },
        {
          "output_type": "stream",
          "name": "stderr",
          "text": [
            "\r 66%|██████▌   | 329/501 [52:56<10:41,  3.73s/it]"
          ]
        },
        {
          "output_type": "stream",
          "name": "stdout",
          "text": [
            "ground truth: yes, predictions: ['yes']\n",
            "total: 329, correct: {1: 194, 3: 214, 5: 215}\n",
            "ANSWER0=VQA(image=IMAGE,question='Does the man look happy and wet?')\n",
            "FINAL_RESULT=RESULT(var=ANSWER0)\n"
          ]
        },
        {
          "output_type": "stream",
          "name": "stderr",
          "text": [
            "\r 66%|██████▌   | 330/501 [53:00<11:21,  3.99s/it]"
          ]
        },
        {
          "output_type": "stream",
          "name": "stdout",
          "text": [
            "ground truth: no, predictions: ['no']\n",
            "total: 330, correct: {1: 195, 3: 215, 5: 216}\n",
            "BOX0=LOC(image=IMAGE,object='train')\n",
            "BOX1=LOC(image=IMAGE,object='clock')\n",
            "ANSWER0=COUNT(box=BOX0)\n",
            "ANSWER1=COUNT(box=BOX1)\n",
            "ANSWER2=EVAL(expr=\"'yes' if {ANSWER0} + {ANSWER1} > 0 else 'no'\")\n",
            "FINAL_RESULT=RESULT(var=ANSWER2)\n"
          ]
        },
        {
          "output_type": "stream",
          "name": "stderr",
          "text": [
            "\r 66%|██████▌   | 331/501 [53:03<10:31,  3.72s/it]"
          ]
        },
        {
          "output_type": "stream",
          "name": "stdout",
          "text": [
            "ground truth: no, predictions: ['no']\n",
            "total: 331, correct: {1: 196, 3: 216, 5: 217}\n",
            "BOX0=LOC(image=IMAGE,object='hat')\n",
            "IMAGE0=CROP(image=IMAGE,box=BOX0)\n",
            "ANSWER0=VQA(image=IMAGE0,question='What color are the hats?')\n",
            "ANSWER1=EVAL(expr=\"'yes' if {ANSWER0} == 'black' else 'no'\")\n",
            "FINAL_RESULT=RESULT(var=ANSWER1)\n"
          ]
        },
        {
          "output_type": "stream",
          "name": "stderr",
          "text": [
            "\r 66%|██████▋   | 332/501 [53:05<08:12,  2.91s/it]"
          ]
        },
        {
          "output_type": "stream",
          "name": "stdout",
          "text": [
            "ground truth: countertop, predictions: ['plate']\n",
            "total: 332, correct: {1: 196, 3: 216, 5: 217}\n",
            "ANSWER0=VQA(image=IMAGE,question='This pizza is on what?')\n",
            "FINAL_RESULT=RESULT(var=ANSWER0)\n"
          ]
        },
        {
          "output_type": "stream",
          "name": "stderr",
          "text": [
            "\r 66%|██████▋   | 333/501 [53:08<08:30,  3.04s/it]"
          ]
        },
        {
          "output_type": "stream",
          "name": "stdout",
          "text": [
            "ground truth: black, predictions: ['no']\n",
            "total: 333, correct: {1: 196, 3: 216, 5: 217}\n",
            "BOX0=LOC(image=IMAGE,object='guy')\n",
            "IMAGE0=CROP(image=IMAGE,box=BOX0)\n",
            "ANSWER0=VQA(image=IMAGE0,question='What color is the jacket the guy is wearing?')\n",
            "FINAL_RESULT=RESULT(var=ANSWER0)\n"
          ]
        },
        {
          "output_type": "stream",
          "name": "stderr",
          "text": [
            "\r 67%|██████▋   | 334/501 [53:09<06:39,  2.39s/it]"
          ]
        },
        {
          "output_type": "stream",
          "name": "stdout",
          "text": [
            "ground truth: yes, predictions: ['yes']\n",
            "total: 334, correct: {1: 197, 3: 217, 5: 218}\n",
            "ANSWER0=VQA(image=IMAGE,question='Is the dog running?')\n",
            "FINAL_RESULT=RESULT(var=ANSWER0)\n"
          ]
        },
        {
          "output_type": "stream",
          "name": "stderr",
          "text": [
            "\r 67%|██████▋   | 335/501 [53:15<09:39,  3.49s/it]"
          ]
        },
        {
          "output_type": "stream",
          "name": "stdout",
          "text": [
            "ground truth: no, predictions: ['yes', 'no']\n",
            "total: 335, correct: {1: 197, 3: 218, 5: 219}\n",
            "BOX0=LOC(image=IMAGE,object='clock')\n",
            "BOX1=LOC(image=IMAGE,object='picture')\n",
            "ANSWER0=COUNT(box=BOX0)\n",
            "ANSWER1=COUNT(box=BOX1)\n",
            "ANSWER2=EVAL(expr=\"'yes' if {ANSWER0} + {ANSWER1} > 0 else 'no'\")\n",
            "FINAL_RESULT=RESULT(var=ANSWER2)\n"
          ]
        },
        {
          "output_type": "stream",
          "name": "stderr",
          "text": [
            "\r 67%|██████▋   | 336/501 [53:20<11:15,  4.09s/it]"
          ]
        },
        {
          "output_type": "stream",
          "name": "stdout",
          "text": [
            "ground truth: yes, predictions: ['yes']\n",
            "total: 336, correct: {1: 198, 3: 219, 5: 220}\n",
            "BOX0=LOC(image=IMAGE,object='grass')\n",
            "IMAGE0=CROP(image=IMAGE,box=BOX0)\n",
            "ANSWER0=VQA(image=IMAGE0,question='Is the grass bushy?')\n",
            "FINAL_RESULT=RESULT(var=ANSWER0)\n"
          ]
        },
        {
          "output_type": "stream",
          "name": "stderr",
          "text": [
            "\r 67%|██████▋   | 337/501 [53:29<15:08,  5.54s/it]"
          ]
        },
        {
          "output_type": "stream",
          "name": "stdout",
          "text": [
            "ground truth: yes, predictions: ['no']\n",
            "total: 337, correct: {1: 198, 3: 219, 5: 220}\n",
            "BOX0=LOC(image=IMAGE,object='stop sign')\n",
            "IMAGE0=CROP(image=IMAGE,box=BOX0)\n",
            "BOX1=LOC(image=IMAGE,object='traffic sign')\n",
            "IMAGE1=CROP(image=IMAGE,box=BOX1)\n",
            "ANSWER0=VQA(image=IMAGE0,question='What color is the stop sign?')\n",
            "ANSWER1=VQA(image=IMAGE1,question='What color is the traffic sign?')\n",
            "ANSWER2=EVAL(expr=\"'yes' if {ANSWER0} == 'white' or {ANSWER1} == 'white' else 'no'\")\n",
            "FINAL_RESULT=RESULT(var=ANSWER2)\n"
          ]
        },
        {
          "output_type": "stream",
          "name": "stderr",
          "text": [
            "\r 67%|██████▋   | 338/501 [53:35<15:19,  5.64s/it]"
          ]
        },
        {
          "output_type": "stream",
          "name": "stdout",
          "text": [
            "ground truth: no, predictions: ['no', 'yes']\n",
            "total: 338, correct: {1: 199, 3: 220, 5: 221}\n",
            "BOX0=LOC(image=IMAGE,object='oranges')\n",
            "BOX1=LOC(image=IMAGE,object='cigars')\n",
            "ANSWER0=COUNT(box=BOX0)\n",
            "ANSWER1=COUNT(box=BOX1)\n",
            "ANSWER2=EVAL(expr=\"'yes' if {ANSWER0} + {ANSWER1} > 0 else 'no'\")\n",
            "FINAL_RESULT=RESULT(var=ANSWER2)\n"
          ]
        },
        {
          "output_type": "stream",
          "name": "stderr",
          "text": [
            "\r 68%|██████▊   | 339/501 [53:41<15:07,  5.60s/it]"
          ]
        },
        {
          "output_type": "stream",
          "name": "stdout",
          "text": [
            "ground truth: green, predictions: ['green']\n",
            "total: 339, correct: {1: 200, 3: 221, 5: 222}\n",
            "BOX0=LOC(image=IMAGE,object='building')\n",
            "IMAGE0=CROP(image=IMAGE,box=BOX0)\n",
            "ANSWER0=VQA(image=IMAGE0,question='What color does the door of the building have?')\n",
            "FINAL_RESULT=RESULT(var=ANSWER0)\n"
          ]
        },
        {
          "output_type": "stream",
          "name": "stderr",
          "text": [
            "\r 68%|██████▊   | 340/501 [53:45<14:14,  5.31s/it]"
          ]
        },
        {
          "output_type": "stream",
          "name": "stdout",
          "text": [
            "ground truth: no, predictions: ['no']\n",
            "total: 340, correct: {1: 201, 3: 222, 5: 223}\n",
            "BOX0=LOC(image=IMAGE,object='fence')\n",
            "BOX1=LOC(image=IMAGE,object='boy')\n",
            "ANSWER0=COUNT(box=BOX0)\n",
            "ANSWER1=COUNT(box=BOX1)\n",
            "ANSWER2=EVAL(expr=\"'yes' if {ANSWER0} + {ANSWER1} > 0 else 'no'\")\n",
            "FINAL_RESULT=RESULT(var=ANSWER2)\n"
          ]
        },
        {
          "output_type": "stream",
          "name": "stderr",
          "text": [
            "\r 68%|██████▊   | 341/501 [53:49<12:46,  4.79s/it]"
          ]
        },
        {
          "output_type": "stream",
          "name": "stdout",
          "text": [
            "ground truth: yes, predictions: ['no']\n",
            "total: 341, correct: {1: 201, 3: 222, 5: 223}\n",
            "BOX0=LOC(image=IMAGE,object='blue')\n",
            "IMAGE0=CROP(image=IMAGE,box=BOX0)\n",
            "BOX1=LOC(image=IMAGE0,object='hat')\n",
            "ANSWER0=COUNT(box=BOX1)\n",
            "ANSWER1=EVAL(expr=\"'yes' if {ANSWER0} > 0 else 'no'\")\n",
            "FINAL_RESULT=RESULT(var=ANSWER1)\n"
          ]
        },
        {
          "output_type": "stream",
          "name": "stderr",
          "text": [
            "\r 68%|██████▊   | 342/501 [54:00<17:30,  6.61s/it]"
          ]
        },
        {
          "output_type": "stream",
          "name": "stdout",
          "text": [
            "ground truth: blue, predictions: ['silver', 'black']\n",
            "total: 342, correct: {1: 201, 3: 222, 5: 223}\n",
            "BOX0=LOC(image=IMAGE,object='woman')\n",
            "IMAGE0=CROP(image=IMAGE,box=BOX0)\n",
            "BOX1=LOC(image=IMAGE0,object='phone')\n",
            "IMAGE1=CROP(image=IMAGE0,box=BOX1)\n",
            "ANSWER0=VQA(image=IMAGE1,question='What color is the phone?')\n",
            "FINAL_RESULT=RESULT(var=ANSWER0)\n"
          ]
        },
        {
          "output_type": "stream",
          "name": "stderr",
          "text": [
            "\r 68%|██████▊   | 343/501 [54:01<13:18,  5.05s/it]"
          ]
        },
        {
          "output_type": "stream",
          "name": "stdout",
          "text": [
            "ground truth: outdoors, predictions: ['outdoors']\n",
            "total: 343, correct: {1: 202, 3: 223, 5: 224}\n",
            "ANSWER0=VQA(image=IMAGE,question='Is it indoors or outdoors?')\n",
            "FINAL_RESULT=RESULT(var=ANSWER0)\n"
          ]
        },
        {
          "output_type": "stream",
          "name": "stderr",
          "text": [
            "\r 69%|██████▊   | 344/501 [59:33<4:29:58, 103.17s/it]"
          ]
        },
        {
          "output_type": "stream",
          "name": "stdout",
          "text": [
            "ground truth: no, predictions: ['no', 'yes']\n",
            "total: 344, correct: {1: 203, 3: 224, 5: 225}\n",
            "BOX0=LOC(image=IMAGE,object='child')\n",
            "IMAGE0=CROP_RIGHTOF(image=IMAGE,box=BOX0)\n",
            "BOX1=LOC(image=IMAGE0,object='ski')\n",
            "IMAGE1=CROP_RIGHTOF(image=IMAGE0,box=BOX1)\n",
            "BOX2=LOC(image=IMAGE1,object='people')\n",
            "ANSWER0=COUNT(box=BOX2)\n",
            "ANSWER1=EVAL(expr=\"'yes' if {ANSWER0} > 0 else 'no'\")\n",
            "FINAL_RESULT=RESULT(var=ANSWER1)\n"
          ]
        },
        {
          "output_type": "stream",
          "name": "stderr",
          "text": [
            "\r 69%|██████▉   | 345/501 [59:36<3:09:52, 73.03s/it] "
          ]
        },
        {
          "output_type": "stream",
          "name": "stdout",
          "text": [
            "ground truth: no, predictions: ['no']\n",
            "total: 345, correct: {1: 204, 3: 225, 5: 226}\n",
            "BOX0=LOC(image=IMAGE,object='wood window')\n",
            "ANSWER0=COUNT(box=BOX0)\n",
            "ANSWER1=EVAL(expr=\"'yes' if {ANSWER0} > 0 else 'no'\")\n",
            "FINAL_RESULT=RESULT(var=ANSWER1)\n"
          ]
        },
        {
          "output_type": "stream",
          "name": "stderr",
          "text": [
            "\r 69%|██████▉   | 346/501 [59:39<2:14:37, 52.11s/it]"
          ]
        },
        {
          "output_type": "stream",
          "name": "stdout",
          "text": [
            "ground truth: no, predictions: ['no']\n",
            "total: 346, correct: {1: 205, 3: 226, 5: 227}\n",
            "BOX0=LOC(image=IMAGE,object='chair')\n",
            "ANSWER0=COUNT(box=BOX0)\n",
            "ANSWER1=EVAL(expr=\"'yes' if {ANSWER0} > 0 else 'no'\")\n",
            "FINAL_RESULT=RESULT(var=ANSWER1)\n"
          ]
        },
        {
          "output_type": "stream",
          "name": "stderr",
          "text": [
            "\r 69%|██████▉   | 347/501 [59:42<1:35:24, 37.17s/it]"
          ]
        },
        {
          "output_type": "stream",
          "name": "stdout",
          "text": [
            "ground truth: yes, predictions: ['yes', 'no']\n",
            "total: 347, correct: {1: 206, 3: 227, 5: 228}\n",
            "BOX0=LOC(image=IMAGE,object='cell phone')\n",
            "ANSWER0=COUNT(box=BOX0)\n",
            "ANSWER1=EVAL(expr=\"'yes' if {ANSWER0} > 0 else 'no'\")\n",
            "FINAL_RESULT=RESULT(var=ANSWER1)\n"
          ]
        },
        {
          "output_type": "stream",
          "name": "stderr",
          "text": [
            "\r 69%|██████▉   | 348/501 [59:44<1:08:07, 26.71s/it]"
          ]
        },
        {
          "output_type": "stream",
          "name": "stdout",
          "text": [
            "ground truth: yes, predictions: ['no', 'yes']\n",
            "total: 348, correct: {1: 206, 3: 228, 5: 229}\n",
            "BOX0=LOC(image=IMAGE,object='window')\n",
            "ANSWER0=COUNT(box=BOX0)\n",
            "ANSWER1=EVAL(expr=\"'yes' if {ANSWER0} > 0 else 'no'\")\n",
            "FINAL_RESULT=RESULT(var=ANSWER1)\n"
          ]
        },
        {
          "output_type": "stream",
          "name": "stderr",
          "text": [
            "\r 70%|██████▉   | 349/501 [59:46<49:08, 19.40s/it]  "
          ]
        },
        {
          "output_type": "stream",
          "name": "stdout",
          "text": [
            "ground truth: yes, predictions: ['no']\n",
            "total: 349, correct: {1: 206, 3: 228, 5: 229}\n",
            "BOX0=LOC(image=IMAGE,object='BOTTOM')\n",
            "IMAGE0=CROP(image=IMAGE,box=BOX0)\n",
            "BOX1=LOC(image=IMAGE0,object='bag')\n",
            "ANSWER0=COUNT(box=BOX1)\n",
            "ANSWER1=EVAL(expr=\"'yes' if {ANSWER0} > 0 else 'no'\")\n",
            "FINAL_RESULT=RESULT(var=ANSWER1)\n"
          ]
        },
        {
          "output_type": "stream",
          "name": "stderr",
          "text": [
            "\r 70%|██████▉   | 350/501 [59:47<34:47, 13.82s/it]"
          ]
        },
        {
          "output_type": "stream",
          "name": "stdout",
          "text": [
            "ground truth: yes, predictions: ['yes']\n",
            "total: 350, correct: {1: 207, 3: 229, 5: 230}\n",
            "ANSWER0=VQA(image=IMAGE,question='Is the woman standing?')\n",
            "FINAL_RESULT=RESULT(var=ANSWER0)\n"
          ]
        },
        {
          "output_type": "stream",
          "name": "stderr",
          "text": [
            "\r 70%|███████   | 351/501 [59:53<28:39, 11.46s/it]"
          ]
        },
        {
          "output_type": "stream",
          "name": "stdout",
          "text": [
            "ground truth: yes, predictions: ['yes', 'no']\n",
            "total: 351, correct: {1: 208, 3: 230, 5: 231}\n",
            "BOX0=LOC(image=IMAGE,object='car')\n",
            "BOX1=LOC(image=IMAGE,object='window')\n",
            "ANSWER0=COUNT(box=BOX0)\n",
            "ANSWER1=COUNT(box=BOX1)\n",
            "ANSWER2=EVAL(expr=\"'yes' if {ANSWER0} + {ANSWER1} > 0 else 'no'\")\n",
            "FINAL_RESULT=RESULT(var=ANSWER2)\n"
          ]
        },
        {
          "output_type": "stream",
          "name": "stderr",
          "text": [
            "\r 70%|███████   | 352/501 [59:57<23:18,  9.39s/it]"
          ]
        },
        {
          "output_type": "stream",
          "name": "stdout",
          "text": [
            "ground truth: yes, predictions: ['no', 'yes']\n",
            "total: 352, correct: {1: 208, 3: 231, 5: 232}\n",
            "BOX0=LOC(image=IMAGE,object='small chair')\n",
            "BOX1=LOC(image=IMAGE,object='baby')\n",
            "ANSWER0=COUNT(box=BOX0)\n",
            "ANSWER1=COUNT(box=BOX1)\n",
            "ANSWER2=EVAL(expr=\"'yes' if {ANSWER0} + {ANSWER1} > 0 else 'no'\")\n",
            "FINAL_RESULT=RESULT(var=ANSWER2)\n"
          ]
        },
        {
          "output_type": "stream",
          "name": "stderr",
          "text": [
            "\r 70%|███████   | 353/501 [1:00:12<27:13, 11.03s/it]"
          ]
        },
        {
          "output_type": "stream",
          "name": "stdout",
          "text": [
            "ground truth: yes, predictions: ['no', 'yes']\n",
            "total: 353, correct: {1: 208, 3: 232, 5: 233}\n",
            "BOX0=LOC(image=IMAGE,object='meat')\n",
            "IMAGE0=CROP_RIGHTOF(image=IMAGE,box=BOX0)\n",
            "BOX1=LOC(image=IMAGE0,object='silver knife')\n",
            "ANSWER0=COUNT(box=BOX1)\n",
            "ANSWER1=EVAL(expr=\"'yes' if {ANSWER0} > 0 else 'no'\")\n",
            "FINAL_RESULT=RESULT(var=ANSWER1)\n"
          ]
        },
        {
          "output_type": "stream",
          "name": "stderr",
          "text": [
            "\r 71%|███████   | 354/501 [1:00:15<20:37,  8.42s/it]"
          ]
        },
        {
          "output_type": "stream",
          "name": "stdout",
          "text": [
            "ground truth: white, predictions: ['no']\n",
            "total: 354, correct: {1: 208, 3: 232, 5: 233}\n",
            "BOX0=LOC(image=IMAGE,object='toilet')\n",
            "IMAGE0=CROP(image=IMAGE,box=BOX0)\n",
            "ANSWER0=VQA(image=IMAGE0,question='What color is the toilet?')\n",
            "FINAL_RESULT=RESULT(var=ANSWER0)\n"
          ]
        },
        {
          "output_type": "stream",
          "name": "stderr",
          "text": [
            "\r 71%|███████   | 355/501 [1:00:21<18:42,  7.69s/it]"
          ]
        },
        {
          "output_type": "stream",
          "name": "stdout",
          "text": [
            "ground truth: yes, predictions: ['no']\n",
            "total: 355, correct: {1: 208, 3: 232, 5: 233}\n",
            "BOX0=LOC(image=IMAGE,object='cup')\n",
            "IMAGE0=CROP_RIGHTOF(image=IMAGE,box=BOX0)\n",
            "BOX1=LOC(image=IMAGE0,object='wicker chair')\n",
            "ANSWER0=COUNT(box=BOX1)\n",
            "ANSWER1=EVAL(expr=\"'yes' if {ANSWER0} > 0 else 'no'\")\n",
            "FINAL_RESULT=RESULT(var=ANSWER1)\n"
          ]
        },
        {
          "output_type": "stream",
          "name": "stderr",
          "text": [
            "\r 71%|███████   | 356/501 [1:00:25<16:18,  6.75s/it]"
          ]
        },
        {
          "output_type": "stream",
          "name": "stdout",
          "text": [
            "ground truth: no, predictions: ['no', 'yes']\n",
            "total: 356, correct: {1: 209, 3: 233, 5: 234}\n",
            "BOX0=LOC(image=IMAGE,object='skateboard')\n",
            "BOX1=LOC(image=IMAGE,object='rope')\n",
            "ANSWER0=COUNT(box=BOX0)\n",
            "ANSWER1=COUNT(box=BOX1)\n",
            "ANSWER2=EVAL(expr=\"'yes' if {ANSWER0} + {ANSWER1} > 0 else 'no'\")\n",
            "FINAL_RESULT=RESULT(var=ANSWER2)\n"
          ]
        },
        {
          "output_type": "stream",
          "name": "stderr",
          "text": [
            "\r 71%|███████▏  | 357/501 [1:00:27<12:58,  5.41s/it]"
          ]
        },
        {
          "output_type": "stream",
          "name": "stdout",
          "text": [
            "ground truth: top, predictions: ['no']\n",
            "total: 357, correct: {1: 209, 3: 233, 5: 234}\n",
            "BOX0=LOC(image=IMAGE,object='TOP')\n",
            "IMAGE0=CROP(image=IMAGE,box=BOX0)\n",
            "BOX1=LOC(image=IMAGE0,object='bottle')\n",
            "ANSWER0=COUNT(box=BOX1)\n",
            "ANSWER1=EVAL(expr=\"'top' if {ANSWER0} > 0 else 'bottom'\")\n",
            "FINAL_RESULT=RESULT(var=ANSWER1)\n"
          ]
        },
        {
          "output_type": "stream",
          "name": "stderr",
          "text": [
            "\r 71%|███████▏  | 358/501 [1:00:30<10:40,  4.48s/it]"
          ]
        },
        {
          "output_type": "stream",
          "name": "stdout",
          "text": [
            "ground truth: no, predictions: ['no']\n",
            "total: 358, correct: {1: 210, 3: 234, 5: 235}\n",
            "BOX0=LOC(image=IMAGE,object='fence')\n",
            "ANSWER0=COUNT(box=BOX0)\n",
            "ANSWER1=EVAL(expr=\"'yes' if {ANSWER0} > 0 else 'no'\")\n",
            "FINAL_RESULT=RESULT(var=ANSWER1)\n"
          ]
        },
        {
          "output_type": "stream",
          "name": "stderr",
          "text": [
            "\r 72%|███████▏  | 359/501 [1:00:33<09:46,  4.13s/it]"
          ]
        },
        {
          "output_type": "stream",
          "name": "stdout",
          "text": [
            "ground truth: yes, predictions: ['no', 'yes']\n",
            "total: 359, correct: {1: 210, 3: 235, 5: 236}\n",
            "BOX0=LOC(image=IMAGE,object='plastic forks')\n",
            "ANSWER0=COUNT(box=BOX0)\n",
            "ANSWER1=EVAL(expr=\"'yes' if {ANSWER0} > 0 else 'no'\")\n",
            "FINAL_RESULT=RESULT(var=ANSWER1)\n"
          ]
        },
        {
          "output_type": "stream",
          "name": "stderr",
          "text": [
            "\r 72%|███████▏  | 360/501 [1:00:37<09:33,  4.07s/it]"
          ]
        },
        {
          "output_type": "stream",
          "name": "stdout",
          "text": [
            "ground truth: no, predictions: ['no']\n",
            "total: 360, correct: {1: 211, 3: 236, 5: 237}\n",
            "BOX0=LOC(image=IMAGE,object='surfboard')\n",
            "IMAGE0=CROP(image=IMAGE,box=BOX0)\n",
            "ANSWER0=VQA(image=IMAGE0,question='What color is the surfboard?')\n",
            "ANSWER1=EVAL(expr=\"'yes' if {ANSWER0} == 'blue' else 'no'\")\n",
            "FINAL_RESULT=RESULT(var=ANSWER1)\n"
          ]
        },
        {
          "output_type": "stream",
          "name": "stderr",
          "text": [
            "\r 72%|███████▏  | 361/501 [1:00:39<08:18,  3.56s/it]"
          ]
        },
        {
          "output_type": "stream",
          "name": "stdout",
          "text": [
            "ground truth: yes, predictions: ['no']\n",
            "total: 361, correct: {1: 211, 3: 236, 5: 237}\n",
            "BOX0=LOC(image=IMAGE,object='RIGHT')\n",
            "IMAGE0=CROP(image=IMAGE,box=BOX0)\n",
            "BOX1=LOC(image=IMAGE0,object='fence')\n",
            "ANSWER0=COUNT(box=BOX1)\n",
            "ANSWER1=EVAL(expr=\"'yes' if {ANSWER0} > 0 else 'no'\")\n",
            "FINAL_RESULT=RESULT(var=ANSWER1)\n"
          ]
        },
        {
          "output_type": "stream",
          "name": "stderr",
          "text": [
            "\r 72%|███████▏  | 362/501 [1:00:42<07:50,  3.38s/it]"
          ]
        },
        {
          "output_type": "stream",
          "name": "stdout",
          "text": [
            "ground truth: yes, predictions: ['no']\n",
            "total: 362, correct: {1: 211, 3: 236, 5: 237}\n",
            "BOX0=LOC(image=IMAGE,object='shorts')\n",
            "IMAGE0=CROP(image=IMAGE,box=BOX0)\n",
            "ANSWER0=VQA(image=IMAGE0,question='What color are the shorts?')\n",
            "ANSWER1=EVAL(expr=\"'yes' if {ANSWER0} == 'white' else 'no'\")\n",
            "FINAL_RESULT=RESULT(var=ANSWER1)\n"
          ]
        },
        {
          "output_type": "stream",
          "name": "stderr",
          "text": [
            "\r 72%|███████▏  | 363/501 [1:00:45<07:13,  3.14s/it]"
          ]
        },
        {
          "output_type": "stream",
          "name": "stdout",
          "text": [
            "ground truth: no, predictions: ['no']\n",
            "total: 363, correct: {1: 212, 3: 237, 5: 238}\n",
            "BOX0=LOC(image=IMAGE,object='donkey')\n",
            "ANSWER0=COUNT(box=BOX0)\n",
            "ANSWER1=EVAL(expr=\"'yes' if {ANSWER0} > 0 else 'no'\")\n",
            "FINAL_RESULT=RESULT(var=ANSWER1)\n"
          ]
        },
        {
          "output_type": "stream",
          "name": "stderr",
          "text": [
            "\r 73%|███████▎  | 364/501 [1:00:49<07:28,  3.27s/it]"
          ]
        },
        {
          "output_type": "stream",
          "name": "stdout",
          "text": [
            "ground truth: no, predictions: ['no']\n",
            "total: 364, correct: {1: 213, 3: 238, 5: 239}\n",
            "BOX0=LOC(image=IMAGE,object='car')\n",
            "ANSWER0=COUNT(box=BOX0)\n",
            "ANSWER1=EVAL(expr=\"'yes' if {ANSWER0} > 0 else 'no'\")\n",
            "FINAL_RESULT=RESULT(var=ANSWER1)\n"
          ]
        },
        {
          "output_type": "stream",
          "name": "stderr",
          "text": [
            "\r 73%|███████▎  | 365/501 [1:00:49<05:45,  2.54s/it]"
          ]
        },
        {
          "output_type": "stream",
          "name": "stdout",
          "text": [
            "ground truth: street, predictions: ['bridge']\n",
            "total: 365, correct: {1: 213, 3: 238, 5: 239}\n",
            "ANSWER0=VQA(image=IMAGE,question='Where is the bus?')\n",
            "FINAL_RESULT=RESULT(var=ANSWER0)\n"
          ]
        },
        {
          "output_type": "stream",
          "name": "stderr",
          "text": [
            "\r 73%|███████▎  | 366/501 [1:00:53<06:31,  2.90s/it]"
          ]
        },
        {
          "output_type": "stream",
          "name": "stdout",
          "text": [
            "ground truth: no, predictions: ['no']\n",
            "total: 366, correct: {1: 214, 3: 239, 5: 240}\n",
            "BOX0=LOC(image=IMAGE,object='cheese')\n",
            "IMAGE0=CROP(image=IMAGE,box=BOX0)\n",
            "ANSWER0=VQA(image=IMAGE0,question='What color is the cheese?')\n",
            "ANSWER1=EVAL(expr=\"'yes' if {ANSWER0} == 'blue' else 'no'\")\n",
            "FINAL_RESULT=RESULT(var=ANSWER1)\n"
          ]
        },
        {
          "output_type": "stream",
          "name": "stderr",
          "text": [
            "\r 73%|███████▎  | 367/501 [1:00:54<05:05,  2.28s/it]"
          ]
        },
        {
          "output_type": "stream",
          "name": "stdout",
          "text": [
            "ground truth: picture frame, predictions: ['sign']\n",
            "total: 367, correct: {1: 214, 3: 239, 5: 240}\n",
            "ANSWER0=VQA(image=IMAGE,question='What is on the wall?')\n",
            "FINAL_RESULT=RESULT(var=ANSWER0)\n"
          ]
        },
        {
          "output_type": "stream",
          "name": "stderr",
          "text": [
            "\r 73%|███████▎  | 368/501 [1:00:59<06:44,  3.04s/it]"
          ]
        },
        {
          "output_type": "stream",
          "name": "stdout",
          "text": [
            "ground truth: cell phone, predictions: ['phone', 'laptop', 'guitar']\n",
            "total: 368, correct: {1: 215, 3: 240, 5: 241}\n",
            "BOX0=LOC(image=IMAGE,object='chair')\n",
            "IMAGE0=CROP_LEFTOF(image=IMAGE,box=BOX0)\n",
            "ANSWER0=VQA(image=IMAGE0,question='What is the man playing with?')\n",
            "FINAL_RESULT=RESULT(var=ANSWER0)\n"
          ]
        },
        {
          "output_type": "stream",
          "name": "stderr",
          "text": [
            "\r 74%|███████▎  | 369/501 [1:01:05<08:38,  3.93s/it]"
          ]
        },
        {
          "output_type": "stream",
          "name": "stdout",
          "text": [
            "ground truth: no, predictions: ['yes']\n",
            "total: 369, correct: {1: 215, 3: 240, 5: 241}\n",
            "BOX0=LOC(image=IMAGE,object='microwave')\n",
            "IMAGE0=CROP_RIGHTOF(image=IMAGE,box=BOX0)\n",
            "BOX1=LOC(image=IMAGE0,object='chandelier')\n",
            "ANSWER0=COUNT(box=BOX1)\n",
            "ANSWER1=EVAL(expr=\"'yes' if {ANSWER0} > 0 else 'no'\")\n",
            "FINAL_RESULT=RESULT(var=ANSWER1)\n"
          ]
        },
        {
          "output_type": "stream",
          "name": "stderr",
          "text": [
            "\r 74%|███████▍  | 370/501 [1:01:20<16:14,  7.44s/it]"
          ]
        },
        {
          "output_type": "stream",
          "name": "stdout",
          "text": [
            "ground truth: yes, predictions: ['no', 'yes']\n",
            "total: 370, correct: {1: 215, 3: 241, 5: 242}\n",
            "BOX0=LOC(image=IMAGE,object='woman')\n",
            "IMAGE0=CROP_RIGHTOF(image=IMAGE,box=BOX0)\n",
            "BOX1=LOC(image=IMAGE0,object='glasses')\n",
            "ANSWER0=COUNT(box=BOX1)\n",
            "ANSWER1=EVAL(expr=\"'yes' if {ANSWER0} > 0 else 'no'\")\n",
            "FINAL_RESULT=RESULT(var=ANSWER1)\n"
          ]
        },
        {
          "output_type": "stream",
          "name": "stderr",
          "text": [
            "\r 74%|███████▍  | 371/501 [1:01:34<19:53,  9.18s/it]"
          ]
        },
        {
          "output_type": "stream",
          "name": "stdout",
          "text": [
            "ground truth: no, predictions: ['no']\n",
            "total: 371, correct: {1: 216, 3: 242, 5: 243}\n",
            "BOX0=LOC(image=IMAGE,object='shirt')\n",
            "IMAGE0=CROP(image=IMAGE,box=BOX0)\n",
            "BOX1=LOC(image=IMAGE,object='outfit')\n",
            "IMAGE1=CROP(image=IMAGE,box=BOX1)\n",
            "ANSWER0=VQA(image=IMAGE0,question='What color is the shirt?')\n",
            "ANSWER1=VQA(image=IMAGE1,question='What color is the outfit?')\n",
            "ANSWER2=EVAL(expr=\"'yes' if {ANSWER0} != {ANSWER1} else 'no'\")\n",
            "FINAL_RESULT=RESULT(var=ANSWER2)\n"
          ]
        },
        {
          "output_type": "stream",
          "name": "stderr",
          "text": [
            "\r 74%|███████▍  | 372/501 [1:01:37<16:14,  7.55s/it]"
          ]
        },
        {
          "output_type": "stream",
          "name": "stdout",
          "text": [
            "ground truth: no, predictions: ['no', 'yes']\n",
            "total: 372, correct: {1: 217, 3: 243, 5: 244}\n",
            "BOX0=LOC(image=IMAGE,object='dry-erase board')\n",
            "ANSWER0=COUNT(box=BOX0)\n",
            "ANSWER1=EVAL(expr=\"'yes' if {ANSWER0} > 0 else 'no'\")\n",
            "FINAL_RESULT=RESULT(var=ANSWER1)\n"
          ]
        },
        {
          "output_type": "stream",
          "name": "stderr",
          "text": [
            "\r 74%|███████▍  | 373/501 [1:02:52<59:12, 27.75s/it]"
          ]
        },
        {
          "output_type": "stream",
          "name": "stdout",
          "text": [
            "ground truth: yes, predictions: ['yes', 'no']\n",
            "total: 373, correct: {1: 218, 3: 244, 5: 245}\n",
            "BOX0=LOC(image=IMAGE,object='drinks')\n",
            "IMAGE0=CROP_LEFTOF(image=IMAGE,box=BOX0)\n",
            "BOX1=LOC(image=IMAGE0,object='tray')\n",
            "IMAGE1=CROP(image=IMAGE0,box=BOX1)\n",
            "ANSWER0=VQA(image=IMAGE1,question='Does the tray look wooden?')\n",
            "FINAL_RESULT=RESULT(var=ANSWER0)\n"
          ]
        },
        {
          "output_type": "stream",
          "name": "stderr",
          "text": [
            "\r 75%|███████▍  | 374/501 [1:02:59<45:29, 21.49s/it]"
          ]
        },
        {
          "output_type": "stream",
          "name": "stdout",
          "text": [
            "ground truth: skis, predictions: ['jacket', 'snowsuit']\n",
            "total: 374, correct: {1: 218, 3: 244, 5: 245}\n",
            "BOX0=LOC(image=IMAGE,object='person')\n",
            "IMAGE0=CROP_RIGHTOF(image=IMAGE,box=BOX0)\n",
            "ANSWER0=VQA(image=IMAGE0,question='What is the guy wearing?')\n",
            "FINAL_RESULT=RESULT(var=ANSWER0)\n"
          ]
        },
        {
          "output_type": "stream",
          "name": "stderr",
          "text": [
            "\r 75%|███████▍  | 375/501 [1:03:02<33:05, 15.76s/it]"
          ]
        },
        {
          "output_type": "stream",
          "name": "stdout",
          "text": [
            "ground truth: left, predictions: ['no']\n",
            "total: 375, correct: {1: 218, 3: 244, 5: 245}\n",
            "BOX0=LOC(image=IMAGE,object='brown')\n",
            "IMAGE0=CROP(image=IMAGE,box=BOX0)\n",
            "BOX1=LOC(image=IMAGE0,object='animal')\n",
            "ANSWER0=COUNT(box=BOX1)\n",
            "ANSWER1=EVAL(expr=\"'right' if {ANSWER0} > 0 else 'left'\")\n",
            "FINAL_RESULT=RESULT(var=ANSWER1)\n"
          ]
        },
        {
          "output_type": "stream",
          "name": "stderr",
          "text": [
            "\r 75%|███████▌  | 376/501 [1:03:04<24:28, 11.75s/it]"
          ]
        },
        {
          "output_type": "stream",
          "name": "stdout",
          "text": [
            "ground truth: no, predictions: ['no']\n",
            "total: 376, correct: {1: 219, 3: 245, 5: 246}\n",
            "BOX0=LOC(image=IMAGE,object='door')\n",
            "IMAGE0=CROP(image=IMAGE,box=BOX0)\n",
            "ANSWER0=VQA(image=IMAGE0,question='What color are the doors?')\n",
            "ANSWER1=EVAL(expr=\"'yes' if {ANSWER0} == 'green' else 'no'\")\n",
            "FINAL_RESULT=RESULT(var=ANSWER1)\n"
          ]
        },
        {
          "output_type": "stream",
          "name": "stderr",
          "text": [
            "\r 75%|███████▌  | 377/501 [1:03:10<20:45, 10.05s/it]"
          ]
        },
        {
          "output_type": "stream",
          "name": "stdout",
          "text": [
            "ground truth: no, predictions: ['no']\n",
            "total: 377, correct: {1: 220, 3: 246, 5: 247}\n",
            "BOX0=LOC(image=IMAGE,object='bag')\n",
            "BOX1=LOC(image=IMAGE,object='helmet')\n",
            "ANSWER0=COUNT(box=BOX0)\n",
            "ANSWER1=COUNT(box=BOX1)\n",
            "ANSWER2=EVAL(expr=\"'yes' if {ANSWER0} + {ANSWER1} > 0 else 'no'\")\n",
            "FINAL_RESULT=RESULT(var=ANSWER2)\n"
          ]
        },
        {
          "output_type": "stream",
          "name": "stderr",
          "text": [
            "\r 75%|███████▌  | 378/501 [1:03:20<20:21,  9.93s/it]"
          ]
        },
        {
          "output_type": "stream",
          "name": "stdout",
          "text": [
            "ground truth: no, predictions: ['no']\n",
            "total: 378, correct: {1: 221, 3: 247, 5: 248}\n",
            "BOX0=LOC(image=IMAGE,object='chair')\n",
            "IMAGE0=CROP_LEFTOF(image=IMAGE,box=BOX0)\n",
            "BOX1=LOC(image=IMAGE0,object='computer mouse')\n",
            "ANSWER0=COUNT(box=BOX1)\n",
            "ANSWER1=EVAL(expr=\"'yes' if {ANSWER0} > 0 else 'no'\")\n",
            "FINAL_RESULT=RESULT(var=ANSWER1)\n"
          ]
        },
        {
          "output_type": "stream",
          "name": "stderr",
          "text": [
            "\r 76%|███████▌  | 379/501 [1:03:25<17:32,  8.63s/it]"
          ]
        },
        {
          "output_type": "stream",
          "name": "stdout",
          "text": [
            "ground truth: no, predictions: ['no']\n",
            "total: 379, correct: {1: 222, 3: 248, 5: 249}\n",
            "BOX0=LOC(image=IMAGE,object='sandals')\n",
            "BOX1=LOC(image=IMAGE,object='boots')\n",
            "BOX2=MERGE(box=BOX0,box=BOX1)\n",
            "IMAGE0=CROP(image=IMAGE,box=BOX2)\n",
            "ANSWER0=VQA(image=IMAGE0,question='What color are the sandals and boots?')\n",
            "ANSWER1=EVAL(expr=\"'yes' if {ANSWER0} != 'black' else 'no'\")\n",
            "FINAL_RESULT=RESULT(var=ANSWER1)\n"
          ]
        },
        {
          "output_type": "stream",
          "name": "stderr",
          "text": [
            "\r 76%|███████▌  | 380/501 [1:03:30<15:10,  7.53s/it]"
          ]
        },
        {
          "output_type": "stream",
          "name": "stdout",
          "text": [
            "ground truth: yes, predictions: ['no']\n",
            "total: 380, correct: {1: 222, 3: 248, 5: 249}\n",
            "BOX0=LOC(image=IMAGE,object='bridge')\n",
            "IMAGE0=CROP(image=IMAGE,box=BOX0)\n",
            "ANSWER0=VQA(image=IMAGE0,question='Is the bridge short?')\n",
            "ANSWER1=EVAL(expr=\"'no' if {ANSWER0} == 'no' else 'yes'\")\n",
            "FINAL_RESULT=RESULT(var=ANSWER1)\n"
          ]
        },
        {
          "output_type": "stream",
          "name": "stderr",
          "text": [
            "\r 76%|███████▌  | 381/501 [1:03:33<12:00,  6.00s/it]"
          ]
        },
        {
          "output_type": "stream",
          "name": "stdout",
          "text": [
            "ground truth: yes, predictions: ['yes', 'no']\n",
            "total: 381, correct: {1: 223, 3: 249, 5: 250}\n",
            "BOX0=LOC(image=IMAGE,object='white gloves')\n",
            "ANSWER0=COUNT(box=BOX0)\n",
            "ANSWER1=EVAL(expr=\"'yes' if {ANSWER0} > 0 else 'no'\")\n",
            "FINAL_RESULT=RESULT(var=ANSWER1)\n"
          ]
        },
        {
          "output_type": "stream",
          "name": "stderr",
          "text": [
            "\r 76%|███████▌  | 382/501 [1:03:39<11:55,  6.01s/it]"
          ]
        },
        {
          "output_type": "stream",
          "name": "stdout",
          "text": [
            "ground truth: no, predictions: ['no']\n",
            "total: 382, correct: {1: 224, 3: 250, 5: 251}\n",
            "BOX0=LOC(image=IMAGE,object='table lamp')\n",
            "BOX1=LOC(image=IMAGE,object='bowl')\n",
            "ANSWER0=COUNT(box=BOX0)\n",
            "ANSWER1=COUNT(box=BOX1)\n",
            "ANSWER2=EVAL(expr=\"'yes' if {ANSWER0} + {ANSWER1} > 0 else 'no'\")\n",
            "FINAL_RESULT=RESULT(var=ANSWER2)\n"
          ]
        },
        {
          "output_type": "stream",
          "name": "stderr",
          "text": [
            "\r 76%|███████▋  | 383/501 [1:03:42<10:28,  5.32s/it]"
          ]
        },
        {
          "output_type": "stream",
          "name": "stdout",
          "text": [
            "ground truth: eye glasses, predictions: ['shirt']\n",
            "total: 383, correct: {1: 224, 3: 250, 5: 251}\n",
            "BOX0=LOC(image=IMAGE,object='curtains')\n",
            "IMAGE0=CROP_LEFTOF(image=IMAGE,box=BOX0)\n",
            "ANSWER0=VQA(image=IMAGE0,question='What is the person wearing?')\n",
            "FINAL_RESULT=RESULT(var=ANSWER0)\n"
          ]
        },
        {
          "output_type": "stream",
          "name": "stderr",
          "text": [
            "\r 77%|███████▋  | 384/501 [1:03:50<11:25,  5.86s/it]"
          ]
        },
        {
          "output_type": "stream",
          "name": "stdout",
          "text": [
            "ground truth: no, predictions: ['no']\n",
            "total: 384, correct: {1: 225, 3: 251, 5: 252}\n",
            "BOX0=LOC(image=IMAGE,object='man')\n",
            "IMAGE0=CROP(image=IMAGE,box=BOX0)\n",
            "ANSWER0=VQA(image=IMAGE0,question='Does the man wear a helmet?')\n",
            "FINAL_RESULT=RESULT(var=ANSWER0)\n"
          ]
        },
        {
          "output_type": "stream",
          "name": "stderr",
          "text": [
            "\r 77%|███████▋  | 385/501 [1:04:07<18:19,  9.47s/it]"
          ]
        },
        {
          "output_type": "stream",
          "name": "stdout",
          "text": [
            "ground truth: no, predictions: ['yes']\n",
            "total: 385, correct: {1: 225, 3: 251, 5: 252}\n",
            "BOX0=LOC(image=IMAGE,object='LEFT')\n",
            "IMAGE0=CROP(image=IMAGE,box=BOX0)\n",
            "BOX1=LOC(image=IMAGE0,object='person')\n",
            "IMAGE1=CROP_LEFTOF(image=IMAGE0,box=BOX1)\n",
            "BOX2=LOC(image=IMAGE1,object='kite')\n",
            "ANSWER0=COUNT(box=BOX2)\n",
            "ANSWER1=EVAL(expr=\"'yes' if {ANSWER0} > 0 else 'no'\")\n",
            "FINAL_RESULT=RESULT(var=ANSWER1)\n"
          ]
        },
        {
          "output_type": "stream",
          "name": "stderr",
          "text": [
            "\r 77%|███████▋  | 386/501 [1:04:12<15:25,  8.05s/it]"
          ]
        },
        {
          "output_type": "stream",
          "name": "stdout",
          "text": [
            "ground truth: no, predictions: ['no']\n",
            "total: 386, correct: {1: 226, 3: 252, 5: 253}\n",
            "BOX0=LOC(image=IMAGE,object='microwave')\n",
            "BOX1=LOC(image=IMAGE,object='refrigerator')\n",
            "BOX2=MERGE(box=BOX0,box=BOX1)\n",
            "IMAGE0=CROP(image=IMAGE,box=BOX2)\n",
            "ANSWER0=VQA(image=IMAGE0,question='What color are the microwaves and refrigerators?')\n",
            "ANSWER1=EVAL(expr=\"'yes' if {ANSWER0} != 'white' else 'no'\")\n",
            "FINAL_RESULT=RESULT(var=ANSWER1)\n"
          ]
        },
        {
          "output_type": "stream",
          "name": "stderr",
          "text": [
            "\r 77%|███████▋  | 387/501 [1:04:16<12:48,  6.75s/it]"
          ]
        },
        {
          "output_type": "stream",
          "name": "stdout",
          "text": [
            "ground truth: yes, predictions: ['no']\n",
            "total: 387, correct: {1: 226, 3: 252, 5: 253}\n",
            "BOX0=LOC(image=IMAGE,object='bat')\n",
            "ANSWER0=VQA(image=IMAGE,question='Are any of the bats small?')\n",
            "FINAL_RESULT=RESULT(var=ANSWER0)\n"
          ]
        },
        {
          "output_type": "stream",
          "name": "stderr",
          "text": [
            "\r 77%|███████▋  | 388/501 [1:04:19<10:42,  5.68s/it]"
          ]
        },
        {
          "output_type": "stream",
          "name": "stdout",
          "text": [
            "ground truth: no, predictions: ['no']\n",
            "total: 388, correct: {1: 227, 3: 253, 5: 254}\n",
            "BOX0=LOC(image=IMAGE,object='window')\n",
            "IMAGE0=CROP_BEHIND(image=IMAGE,box=BOX0)\n",
            "BOX1=LOC(image=IMAGE0,object='person')\n",
            "IMAGE1=CROP_RIGHTOF(image=IMAGE0,box=BOX1)\n",
            "BOX2=LOC(image=IMAGE1,object='remote control')\n",
            "ANSWER0=COUNT(box=BOX2)\n",
            "ANSWER1=EVAL(expr=\"'yes' if {ANSWER0} > 0 else 'no'\")\n",
            "FINAL_RESULT=RESULT(var=ANSWER1)\n"
          ]
        },
        {
          "output_type": "stream",
          "name": "stderr",
          "text": [
            "\r 78%|███████▊  | 389/501 [1:04:22<08:48,  4.72s/it]"
          ]
        },
        {
          "output_type": "stream",
          "name": "stdout",
          "text": [
            "ground truth: no, predictions: ['no']\n",
            "total: 389, correct: {1: 228, 3: 254, 5: 255}\n",
            "BOX0=LOC(image=IMAGE,object='cow')\n",
            "IMAGE0=CROP_BEHIND(image=IMAGE,box=BOX0)\n",
            "BOX1=LOC(image=IMAGE0,object='fence')\n",
            "ANSWER0=COUNT(box=BOX1)\n",
            "ANSWER1=EVAL(expr=\"'yes' if {ANSWER0} > 0 else 'no'\")\n",
            "FINAL_RESULT=RESULT(var=ANSWER1)\n"
          ]
        },
        {
          "output_type": "stream",
          "name": "stderr",
          "text": [
            "\r 78%|███████▊  | 390/501 [1:04:27<09:13,  4.98s/it]"
          ]
        },
        {
          "output_type": "stream",
          "name": "stdout",
          "text": [
            "ground truth: no, predictions: ['no']\n",
            "total: 390, correct: {1: 229, 3: 255, 5: 256}\n",
            "BOX0=LOC(image=IMAGE,object='orange vegetable')\n",
            "IMAGE0=CROP(image=IMAGE,box=BOX0)\n",
            "ANSWER0=VQA(image=IMAGE0,question='Does the orange vegetable look rotten?')\n",
            "FINAL_RESULT=RESULT(var=ANSWER0)\n"
          ]
        },
        {
          "output_type": "stream",
          "name": "stderr",
          "text": [
            "\r 78%|███████▊  | 391/501 [1:04:33<09:50,  5.37s/it]"
          ]
        },
        {
          "output_type": "stream",
          "name": "stdout",
          "text": [
            "ground truth: yes, predictions: ['yes', 'no']\n",
            "total: 391, correct: {1: 230, 3: 256, 5: 257}\n",
            "BOX0=LOC(image=IMAGE,object='bacon')\n",
            "BOX1=LOC(image=IMAGE,object='rice')\n",
            "ANSWER0=COUNT(box=BOX0)\n",
            "ANSWER1=COUNT(box=BOX1)\n",
            "ANSWER2=EVAL(expr=\"'yes' if {ANSWER0} + {ANSWER1} > 0 else 'no'\")\n",
            "FINAL_RESULT=RESULT(var=ANSWER2)\n"
          ]
        },
        {
          "output_type": "stream",
          "name": "stderr",
          "text": [
            "\r 78%|███████▊  | 392/501 [1:04:51<16:40,  9.17s/it]"
          ]
        },
        {
          "output_type": "stream",
          "name": "stdout",
          "text": [
            "ground truth: yes, predictions: ['yes']\n",
            "total: 392, correct: {1: 231, 3: 257, 5: 258}\n",
            "BOX0=LOC(image=IMAGE,object='RIGHT')\n",
            "IMAGE0=CROP(image=IMAGE,box=BOX0)\n",
            "BOX1=LOC(image=IMAGE0,object='snowboard')\n",
            "IMAGE1=CROP_LEFTOF(image=IMAGE0,box=BOX1)\n",
            "BOX2=LOC(image=IMAGE1,object='men')\n",
            "ANSWER0=COUNT(box=BOX2)\n",
            "ANSWER1=EVAL(expr=\"'yes' if {ANSWER0} > 0 else 'no'\")\n",
            "FINAL_RESULT=RESULT(var=ANSWER1)\n"
          ]
        },
        {
          "output_type": "stream",
          "name": "stderr",
          "text": [
            "\r 78%|███████▊  | 393/501 [1:04:52<11:57,  6.65s/it]"
          ]
        },
        {
          "output_type": "stream",
          "name": "stdout",
          "text": [
            "ground truth: field, predictions: ['baseball field']\n",
            "total: 393, correct: {1: 232, 3: 258, 5: 259}\n",
            "ANSWER0=VQA(image=IMAGE,question='What place is this?')\n",
            "FINAL_RESULT=RESULT(var=ANSWER0)\n"
          ]
        },
        {
          "output_type": "stream",
          "name": "stderr",
          "text": [
            "\r 79%|███████▊  | 394/501 [1:04:58<11:36,  6.51s/it]"
          ]
        },
        {
          "output_type": "stream",
          "name": "stdout",
          "text": [
            "ground truth: yes, predictions: ['no']\n",
            "total: 394, correct: {1: 232, 3: 258, 5: 259}\n",
            "BOX0=LOC(image=IMAGE,object='sky')\n",
            "IMAGE0=CROP(image=IMAGE,box=BOX0)\n",
            "ANSWER0=VQA(image=IMAGE0,question='What color is the sky?')\n",
            "ANSWER1=EVAL(expr=\"'yes' if {ANSWER0} == 'blue' else 'no'\")\n",
            "FINAL_RESULT=RESULT(var=ANSWER1)\n"
          ]
        },
        {
          "output_type": "stream",
          "name": "stderr",
          "text": [
            "\r 79%|███████▉  | 395/501 [1:05:04<10:54,  6.17s/it]"
          ]
        },
        {
          "output_type": "stream",
          "name": "stdout",
          "text": [
            "ground truth: no, predictions: ['no']\n",
            "total: 395, correct: {1: 233, 3: 259, 5: 260}\n",
            "BOX0=LOC(image=IMAGE,object='spoon')\n",
            "IMAGE0=CROP_RIGHTOF(image=IMAGE,box=BOX0)\n",
            "BOX1=LOC(image=IMAGE0,object='chair')\n",
            "ANSWER0=COUNT(box=BOX1)\n",
            "ANSWER1=EVAL(expr=\"'yes' if {ANSWER0} > 0 else 'no'\")\n",
            "FINAL_RESULT=RESULT(var=ANSWER1)\n"
          ]
        },
        {
          "output_type": "stream",
          "name": "stderr",
          "text": [
            "\r 79%|███████▉  | 396/501 [1:05:21<16:48,  9.61s/it]"
          ]
        },
        {
          "output_type": "stream",
          "name": "stdout",
          "text": [
            "ground truth: yes, predictions: ['yes']\n",
            "total: 396, correct: {1: 234, 3: 260, 5: 261}\n",
            "BOX0=LOC(image=IMAGE,object='van')\n",
            "IMAGE0=CROP_RIGHTOF(image=IMAGE,box=BOX0)\n",
            "BOX1=LOC(image=IMAGE0,object='bus')\n",
            "IMAGE1=CROP_RIGHTOF(image=IMAGE0,box=BOX1)\n",
            "BOX2=LOC(image=IMAGE1,object='mirror')\n",
            "ANSWER0=COUNT(box=BOX2)\n",
            "ANSWER1=EVAL(expr=\"'yes' if {ANSWER0} > 0 else 'no'\")\n",
            "FINAL_RESULT=RESULT(var=ANSWER1)\n"
          ]
        },
        {
          "output_type": "stream",
          "name": "stderr",
          "text": [
            "\r 79%|███████▉  | 397/501 [1:05:24<12:52,  7.43s/it]"
          ]
        },
        {
          "output_type": "stream",
          "name": "stdout",
          "text": [
            "ground truth: no, predictions: ['no']\n",
            "total: 397, correct: {1: 235, 3: 261, 5: 262}\n",
            "BOX0=LOC(image=IMAGE,object='fire extinguisher')\n",
            "ANSWER0=COUNT(box=BOX0)\n",
            "ANSWER1=EVAL(expr=\"'yes' if {ANSWER0} > 0 else 'no'\")\n",
            "FINAL_RESULT=RESULT(var=ANSWER1)\n"
          ]
        },
        {
          "output_type": "stream",
          "name": "stderr",
          "text": [
            "\r 79%|███████▉  | 398/501 [1:05:28<11:12,  6.53s/it]"
          ]
        },
        {
          "output_type": "stream",
          "name": "stdout",
          "text": [
            "ground truth: brown, predictions: ['gray']\n",
            "total: 398, correct: {1: 235, 3: 261, 5: 262}\n",
            "BOX0=LOC(image=IMAGE,object='skirt')\n",
            "IMAGE0=CROP(image=IMAGE,box=BOX0)\n",
            "ANSWER0=VQA(image=IMAGE0,question='What color is the skirt?')\n",
            "FINAL_RESULT=RESULT(var=ANSWER0)\n"
          ]
        },
        {
          "output_type": "stream",
          "name": "stderr",
          "text": [
            "\r 80%|███████▉  | 399/501 [1:05:31<08:58,  5.28s/it]"
          ]
        },
        {
          "output_type": "stream",
          "name": "stdout",
          "text": [
            "ground truth: no, predictions: ['no']\n",
            "total: 399, correct: {1: 236, 3: 262, 5: 263}\n",
            "BOX0=LOC(image=IMAGE,object='glasses')\n",
            "ANSWER0=COUNT(box=BOX0)\n",
            "ANSWER1=EVAL(expr=\"'yes' if {ANSWER0} > 0 else 'no'\")\n",
            "FINAL_RESULT=RESULT(var=ANSWER1)\n"
          ]
        },
        {
          "output_type": "stream",
          "name": "stderr",
          "text": [
            "\r 80%|███████▉  | 400/501 [1:05:36<08:56,  5.31s/it]"
          ]
        },
        {
          "output_type": "stream",
          "name": "stdout",
          "text": [
            "ground truth: yes, predictions: ['no']\n",
            "total: 400, correct: {1: 236, 3: 262, 5: 263}\n",
            "BOX0=LOC(image=IMAGE,object='pillow')\n",
            "IMAGE0=CROP(image=IMAGE,box=BOX0)\n",
            "BOX1=LOC(image=IMAGE,object='soccer ball')\n",
            "IMAGE1=CROP(image=IMAGE,box=BOX1)\n",
            "ANSWER0=VQA(image=IMAGE0,question='What color is the pillow?')\n",
            "ANSWER1=VQA(image=IMAGE1,question='What color is the soccer ball?')\n",
            "ANSWER2=EVAL(expr=\"'yes' if {ANSWER0} == 'white' or {ANSWER1} == 'white' else 'no'\")\n",
            "FINAL_RESULT=RESULT(var=ANSWER2)\n"
          ]
        },
        {
          "output_type": "stream",
          "name": "stderr",
          "text": [
            "\r 80%|████████  | 401/501 [1:06:57<46:37, 27.98s/it]"
          ]
        },
        {
          "output_type": "stream",
          "name": "stdout",
          "text": [
            "ground truth: no, predictions: ['no', 'yes']\n",
            "total: 401, correct: {1: 237, 3: 263, 5: 264}\n",
            "BOX0=LOC(image=IMAGE,object='LEFT')\n",
            "IMAGE0=CROP(image=IMAGE,box=BOX0)\n",
            "BOX1=LOC(image=IMAGE0,object='glasses')\n",
            "IMAGE1=CROP_RIGHTOF(image=IMAGE0,box=BOX1)\n",
            "BOX2=LOC(image=IMAGE1,object='plate')\n",
            "ANSWER0=COUNT(box=BOX2)\n",
            "ANSWER1=EVAL(expr=\"'yes' if {ANSWER0} > 0 else 'no'\")\n",
            "FINAL_RESULT=RESULT(var=ANSWER1)\n"
          ]
        },
        {
          "output_type": "stream",
          "name": "stderr",
          "text": [
            "\r 80%|████████  | 402/501 [1:06:59<33:30, 20.31s/it]"
          ]
        },
        {
          "output_type": "stream",
          "name": "stdout",
          "text": [
            "ground truth: yes, predictions: ['no']\n",
            "total: 402, correct: {1: 237, 3: 263, 5: 264}\n",
            "BOX0=LOC(image=IMAGE,object='table')\n",
            "IMAGE0=CROP(image=IMAGE,box=BOX0)\n",
            "ANSWER0=VQA(image=IMAGE0,question='What color is the tablecloth?')\n",
            "ANSWER1=EVAL(expr=\"'yes' if {ANSWER0} == 'purple' else 'no'\")\n",
            "FINAL_RESULT=RESULT(var=ANSWER1)\n"
          ]
        },
        {
          "output_type": "stream",
          "name": "stderr",
          "text": [
            "\r 80%|████████  | 403/501 [1:07:02<24:25, 14.96s/it]"
          ]
        },
        {
          "output_type": "stream",
          "name": "stdout",
          "text": [
            "ground truth: no, predictions: ['no']\n",
            "total: 403, correct: {1: 238, 3: 264, 5: 265}\n",
            "BOX0=LOC(image=IMAGE,object='empty bottle')\n",
            "IMAGE0=CROP_RIGHTOF(image=IMAGE,box=BOX0)\n",
            "BOX1=LOC(image=IMAGE0,object='monitors')\n",
            "ANSWER0=COUNT(box=BOX1)\n",
            "ANSWER1=EVAL(expr=\"'yes' if {ANSWER0} > 0 else 'no'\")\n",
            "FINAL_RESULT=RESULT(var=ANSWER1)\n"
          ]
        },
        {
          "output_type": "stream",
          "name": "stderr",
          "text": [
            "\r 81%|████████  | 404/501 [1:07:15<23:10, 14.34s/it]"
          ]
        },
        {
          "output_type": "stream",
          "name": "stdout",
          "text": [
            "ground truth: no, predictions: ['no']\n",
            "total: 404, correct: {1: 239, 3: 265, 5: 266}\n",
            "BOX0=LOC(image=IMAGE,object='toilet')\n",
            "IMAGE0=CROP(image=IMAGE,box=BOX0)\n",
            "BOX1=LOC(image=IMAGE,object='bath tub')\n",
            "IMAGE1=CROP(image=IMAGE,box=BOX1)\n",
            "ANSWER0=VQA(image=IMAGE0,question='What color is the toilet?')\n",
            "ANSWER1=VQA(image=IMAGE1,question='What color is the bath tub?')\n",
            "ANSWER2=EVAL(expr=\"'yes' if {ANSWER0} != {ANSWER1} else 'no'\")\n",
            "FINAL_RESULT=RESULT(var=ANSWER2)\n"
          ]
        },
        {
          "output_type": "stream",
          "name": "stderr",
          "text": [
            "\r 81%|████████  | 405/501 [1:07:23<19:58, 12.48s/it]"
          ]
        },
        {
          "output_type": "stream",
          "name": "stdout",
          "text": [
            "ground truth: yes, predictions: ['no']\n",
            "total: 405, correct: {1: 239, 3: 265, 5: 266}\n",
            "BOX0=LOC(image=IMAGE,object='car')\n",
            "IMAGE0=CROP(image=IMAGE,box=BOX0)\n",
            "ANSWER0=VQA(image=IMAGE0,question='What color is the car?')\n",
            "ANSWER1=EVAL(expr=\"'yes' if {ANSWER0} == 'gray' else 'no'\")\n",
            "FINAL_RESULT=RESULT(var=ANSWER1)\n"
          ]
        },
        {
          "output_type": "stream",
          "name": "stderr",
          "text": [
            "\r 81%|████████  | 406/501 [1:07:25<15:01,  9.49s/it]"
          ]
        },
        {
          "output_type": "stream",
          "name": "stdout",
          "text": [
            "ground truth: no, predictions: ['no']\n",
            "total: 406, correct: {1: 240, 3: 266, 5: 267}\n",
            "BOX0=LOC(image=IMAGE,object='LEFT')\n",
            "IMAGE0=CROP(image=IMAGE,box=BOX0)\n",
            "BOX1=LOC(image=IMAGE0,object='trailer')\n",
            "IMAGE1=CROP_LEFTOF(image=IMAGE0,box=BOX1)\n",
            "BOX2=LOC(image=IMAGE1,object='men')\n",
            "ANSWER0=COUNT(box=BOX2)\n",
            "ANSWER1=EVAL(expr=\"'yes' if {ANSWER0} > 0 else 'no'\")\n",
            "FINAL_RESULT=RESULT(var=ANSWER1)\n"
          ]
        },
        {
          "output_type": "stream",
          "name": "stderr",
          "text": [
            "\r 81%|████████  | 407/501 [1:07:28<11:35,  7.39s/it]"
          ]
        },
        {
          "output_type": "stream",
          "name": "stdout",
          "text": [
            "ground truth: no, predictions: ['no', 'yes']\n",
            "total: 407, correct: {1: 241, 3: 267, 5: 268}\n",
            "BOX0=LOC(image=IMAGE,object='almonds')\n",
            "ANSWER0=COUNT(box=BOX0)\n",
            "ANSWER1=EVAL(expr=\"'yes' if {ANSWER0} > 0 else 'no'\")\n",
            "FINAL_RESULT=RESULT(var=ANSWER1)\n"
          ]
        },
        {
          "output_type": "stream",
          "name": "stderr",
          "text": [
            "\r 81%|████████▏ | 408/501 [1:07:30<09:08,  5.90s/it]"
          ]
        },
        {
          "output_type": "stream",
          "name": "stdout",
          "text": [
            "ground truth: white, predictions: ['no']\n",
            "total: 408, correct: {1: 241, 3: 267, 5: 268}\n",
            "BOX0=LOC(image=IMAGE,object='kitten')\n",
            "IMAGE0=CROP_NEXTTO(image=IMAGE,box=BOX0)\n",
            "BOX1=LOC(image=IMAGE0,object='remote control')\n",
            "ANSWER0=VQA(image=IMAGE0,question='What color is the remote control?')\n",
            "FINAL_RESULT=RESULT(var=ANSWER0)\n"
          ]
        },
        {
          "output_type": "stream",
          "name": "stderr",
          "text": [
            "\r 82%|████████▏ | 409/501 [1:07:34<08:17,  5.40s/it]"
          ]
        },
        {
          "output_type": "stream",
          "name": "stdout",
          "text": [
            "ground truth: yes, predictions: ['yes']\n",
            "total: 409, correct: {1: 242, 3: 268, 5: 269}\n",
            "BOX0=LOC(image=IMAGE,object='round pizza')\n",
            "IMAGE0=CROP(image=IMAGE,box=BOX0)\n",
            "ANSWER0=VQA(image=IMAGE0,question='Does the pizza look fresh?')\n",
            "FINAL_RESULT=RESULT(var=ANSWER0)\n"
          ]
        },
        {
          "output_type": "stream",
          "name": "stderr",
          "text": [
            "\r 82%|████████▏ | 410/501 [1:07:40<08:05,  5.34s/it]"
          ]
        },
        {
          "output_type": "stream",
          "name": "stdout",
          "text": [
            "ground truth: no, predictions: ['yes', 'no']\n",
            "total: 410, correct: {1: 242, 3: 269, 5: 270}\n",
            "BOX0=LOC(image=IMAGE,object='glasses')\n",
            "BOX1=LOC(image=IMAGE,object='fence')\n",
            "ANSWER0=COUNT(box=BOX0)\n",
            "ANSWER1=COUNT(box=BOX1)\n",
            "ANSWER2=EVAL(expr=\"'yes' if {ANSWER0} + {ANSWER1} > 0 else 'no'\")\n",
            "FINAL_RESULT=RESULT(var=ANSWER2)\n"
          ]
        },
        {
          "output_type": "stream",
          "name": "stderr",
          "text": [
            "\r 82%|████████▏ | 411/501 [1:07:44<07:46,  5.18s/it]"
          ]
        },
        {
          "output_type": "stream",
          "name": "stdout",
          "text": [
            "ground truth: no, predictions: ['no']\n",
            "total: 411, correct: {1: 243, 3: 270, 5: 271}\n",
            "BOX0=LOC(image=IMAGE,object='shelves')\n",
            "BOX1=LOC(image=IMAGE,object='mirrors')\n",
            "ANSWER0=COUNT(box=BOX0)\n",
            "ANSWER1=COUNT(box=BOX1)\n",
            "ANSWER2=EVAL(expr=\"'yes' if {ANSWER0} + {ANSWER1} > 0 else 'no'\")\n",
            "FINAL_RESULT=RESULT(var=ANSWER2)\n"
          ]
        },
        {
          "output_type": "stream",
          "name": "stderr",
          "text": [
            "\r 82%|████████▏ | 412/501 [1:07:45<05:47,  3.90s/it]"
          ]
        },
        {
          "output_type": "stream",
          "name": "stdout",
          "text": [
            "ground truth: boy, predictions: ['boy']\n",
            "total: 412, correct: {1: 244, 3: 271, 5: 272}\n",
            "ANSWER0=VQA(image=IMAGE,question='Who eats the pizza?')\n",
            "FINAL_RESULT=RESULT(var=ANSWER0)\n"
          ]
        },
        {
          "output_type": "stream",
          "name": "stderr",
          "text": [
            "\r 82%|████████▏ | 413/501 [1:07:53<07:18,  4.98s/it]"
          ]
        },
        {
          "output_type": "stream",
          "name": "stdout",
          "text": [
            "ground truth: no, predictions: ['no']\n",
            "total: 413, correct: {1: 245, 3: 272, 5: 273}\n",
            "BOX0=LOC(image=IMAGE,object='man shorts')\n",
            "IMAGE0=CROP(image=IMAGE,box=BOX0)\n",
            "ANSWER0=VQA(image=IMAGE0,question='What color are the man shorts?')\n",
            "ANSWER1=EVAL(expr=\"'yes' if {ANSWER0} == 'black' else 'no'\")\n",
            "FINAL_RESULT=RESULT(var=ANSWER1)\n"
          ]
        },
        {
          "output_type": "stream",
          "name": "stderr",
          "text": [
            "\r 83%|████████▎ | 414/501 [1:08:04<09:43,  6.71s/it]"
          ]
        },
        {
          "output_type": "stream",
          "name": "stdout",
          "text": [
            "ground truth: yes, predictions: ['no']\n",
            "total: 414, correct: {1: 245, 3: 272, 5: 273}\n",
            "BOX0=LOC(image=IMAGE,object='TOP')\n",
            "IMAGE0=CROP(image=IMAGE,box=BOX0)\n",
            "BOX1=LOC(image=IMAGE0,object='red car')\n",
            "ANSWER0=COUNT(box=BOX1)\n",
            "ANSWER1=EVAL(expr=\"'yes' if {ANSWER0} > 0 else 'no'\")\n",
            "FINAL_RESULT=RESULT(var=ANSWER1)\n"
          ]
        },
        {
          "output_type": "stream",
          "name": "stderr",
          "text": [
            "\r 83%|████████▎ | 415/501 [1:08:11<09:44,  6.80s/it]"
          ]
        },
        {
          "output_type": "stream",
          "name": "stdout",
          "text": [
            "ground truth: yes, predictions: ['yes', 'no']\n",
            "total: 415, correct: {1: 246, 3: 273, 5: 274}\n",
            "BOX0=LOC(image=IMAGE,object='brown animal')\n",
            "IMAGE0=CROP_LEFTOF(image=IMAGE,box=BOX0)\n",
            "BOX1=LOC(image=IMAGE0,object='man')\n",
            "ANSWER0=COUNT(box=BOX1)\n",
            "ANSWER1=EVAL(expr=\"'yes' if {ANSWER0} > 0 else 'no'\")\n",
            "FINAL_RESULT=RESULT(var=ANSWER1)\n"
          ]
        },
        {
          "output_type": "stream",
          "name": "stderr",
          "text": [
            "\r 83%|████████▎ | 416/501 [1:08:13<07:56,  5.60s/it]"
          ]
        },
        {
          "output_type": "stream",
          "name": "stdout",
          "text": [
            "ground truth: no, predictions: ['no']\n",
            "total: 416, correct: {1: 247, 3: 274, 5: 275}\n",
            "BOX0=LOC(image=IMAGE,object='glasses')\n",
            "IMAGE0=CROP(image=IMAGE,box=BOX0)\n",
            "ANSWER0=VQA(image=IMAGE0,question='Are the glasses made out of wire?')\n",
            "FINAL_RESULT=RESULT(var=ANSWER0)\n"
          ]
        },
        {
          "output_type": "stream",
          "name": "stderr",
          "text": [
            "\r 83%|████████▎ | 417/501 [1:08:27<11:03,  7.90s/it]"
          ]
        },
        {
          "output_type": "stream",
          "name": "stdout",
          "text": [
            "ground truth: no, predictions: ['no']\n",
            "total: 417, correct: {1: 248, 3: 275, 5: 276}\n",
            "BOX0=LOC(image=IMAGE,object='man')\n",
            "IMAGE0=CROP(image=IMAGE,box=BOX0)\n",
            "BOX1=LOC(image=IMAGE0,object='tshirt')\n",
            "IMAGE1=CROP_RIGHTOF(image=IMAGE0,box=BOX1)\n",
            "BOX2=LOC(image=IMAGE1,object='chair')\n",
            "ANSWER0=COUNT(box=BOX2)\n",
            "ANSWER1=EVAL(expr=\"'yes' if {ANSWER0} > 0 else 'no'\")\n",
            "FINAL_RESULT=RESULT(var=ANSWER1)\n"
          ]
        },
        {
          "output_type": "stream",
          "name": "stderr",
          "text": [
            "\r 83%|████████▎ | 418/501 [1:08:31<09:35,  6.94s/it]"
          ]
        },
        {
          "output_type": "stream",
          "name": "stdout",
          "text": [
            "ground truth: no, predictions: ['no']\n",
            "total: 418, correct: {1: 249, 3: 276, 5: 277}\n",
            "BOX0=LOC(image=IMAGE,object='cat')\n",
            "IMAGE0=CROP(image=IMAGE,box=BOX0)\n",
            "ANSWER0=VQA(image=IMAGE0,question='Is the cat large?')\n",
            "ANSWER1=EVAL(expr=\"'yes' if {ANSWER0} == 'no' else 'no'\")\n",
            "FINAL_RESULT=RESULT(var=ANSWER1)\n"
          ]
        },
        {
          "output_type": "stream",
          "name": "stderr",
          "text": [
            "\r 84%|████████▎ | 419/501 [1:08:47<13:09,  9.63s/it]"
          ]
        },
        {
          "output_type": "stream",
          "name": "stdout",
          "text": [
            "ground truth: right, predictions: ['left']\n",
            "total: 419, correct: {1: 249, 3: 276, 5: 277}\n",
            "BOX0=LOC(image=IMAGE,object='woman wearing apron')\n",
            "IMAGE0=CROP(image=IMAGE,box=BOX0)\n",
            "BOX1=LOC(image=IMAGE0,object='spoon')\n",
            "ANSWER0=COUNT(box=BOX1)\n",
            "ANSWER1=EVAL(expr=\"'right' if {ANSWER0} > 0 else 'left'\")\n",
            "FINAL_RESULT=RESULT(var=ANSWER1)\n"
          ]
        },
        {
          "output_type": "stream",
          "name": "stderr",
          "text": [
            "\r 84%|████████▍ | 420/501 [1:08:50<10:19,  7.65s/it]"
          ]
        },
        {
          "output_type": "stream",
          "name": "stdout",
          "text": [
            "ground truth: man, predictions: ['girl']\n",
            "total: 420, correct: {1: 249, 3: 276, 5: 277}\n",
            "BOX0=LOC(image=IMAGE,object='hat')\n",
            "IMAGE0=CROP(image=IMAGE,box=BOX0)\n",
            "ANSWER0=VQA(image=IMAGE0,question='Who is wearing the hat?')\n",
            "FINAL_RESULT=RESULT(var=ANSWER0)\n"
          ]
        },
        {
          "output_type": "stream",
          "name": "stderr",
          "text": [
            "\r 84%|████████▍ | 421/501 [1:08:53<08:08,  6.10s/it]"
          ]
        },
        {
          "output_type": "stream",
          "name": "stdout",
          "text": [
            "ground truth: no, predictions: ['no']\n",
            "total: 421, correct: {1: 250, 3: 277, 5: 278}\n",
            "BOX0=LOC(image=IMAGE,object='tools')\n",
            "IMAGE0=CROP_RIGHTOF(image=IMAGE,box=BOX0)\n",
            "BOX1=LOC(image=IMAGE0,object='man')\n",
            "ANSWER0=VQA(image=IMAGE0,question='Does the man appear to be walking?')\n",
            "FINAL_RESULT=RESULT(var=ANSWER0)\n"
          ]
        },
        {
          "output_type": "stream",
          "name": "stderr",
          "text": [
            "\r 84%|████████▍ | 422/501 [1:08:55<06:37,  5.03s/it]"
          ]
        },
        {
          "output_type": "stream",
          "name": "stdout",
          "text": [
            "ground truth: no, predictions: ['no']\n",
            "total: 422, correct: {1: 251, 3: 278, 5: 279}\n",
            "BOX0=LOC(image=IMAGE,object='teddy bear')\n",
            "IMAGE0=CROP(image=IMAGE,box=BOX0)\n",
            "ANSWER0=VQA(image=IMAGE0,question='What color is the teddy bear?')\n",
            "ANSWER1=EVAL(expr=\"'yes' if {ANSWER0} == 'white' else 'no'\")\n",
            "FINAL_RESULT=RESULT(var=ANSWER1)\n"
          ]
        },
        {
          "output_type": "stream",
          "name": "stderr",
          "text": [
            "\r 84%|████████▍ | 423/501 [1:08:59<06:04,  4.67s/it]"
          ]
        },
        {
          "output_type": "stream",
          "name": "stdout",
          "text": [
            "ground truth: cabinet, predictions: ['no']\n",
            "total: 423, correct: {1: 251, 3: 278, 5: 279}\n",
            "BOX0=LOC(image=IMAGE,object='table')\n",
            "IMAGE0=CROP_BEHIND(image=IMAGE,box=BOX0)\n",
            "BOX1=LOC(image=IMAGE0,object='cheese cube')\n",
            "IMAGE1=CROP_ABOVE(image=IMAGE0,box=BOX1)\n",
            "ANSWER0=VQA(image=IMAGE1,question='What is the piece of furniture?')\n",
            "FINAL_RESULT=RESULT(var=ANSWER0)\n"
          ]
        },
        {
          "output_type": "stream",
          "name": "stderr",
          "text": [
            "\r 85%|████████▍ | 424/501 [1:09:04<06:07,  4.77s/it]"
          ]
        },
        {
          "output_type": "stream",
          "name": "stdout",
          "text": [
            "ground truth: yes, predictions: ['no']\n",
            "total: 424, correct: {1: 251, 3: 278, 5: 279}\n",
            "BOX0=LOC(image=IMAGE,object='RIGHT')\n",
            "IMAGE0=CROP(image=IMAGE,box=BOX0)\n",
            "BOX1=LOC(image=IMAGE0,object='utensils')\n",
            "ANSWER0=COUNT(box=BOX1)\n",
            "ANSWER1=EVAL(expr=\"'yes' if {ANSWER0} > 0 else 'no'\")\n",
            "FINAL_RESULT=RESULT(var=ANSWER1)\n"
          ]
        },
        {
          "output_type": "stream",
          "name": "stderr",
          "text": [
            "\r 85%|████████▍ | 425/501 [1:09:23<11:35,  9.15s/it]"
          ]
        },
        {
          "output_type": "stream",
          "name": "stdout",
          "text": [
            "ground truth: yes, predictions: ['no', 'yes']\n",
            "total: 425, correct: {1: 251, 3: 279, 5: 280}\n",
            "BOX0=LOC(image=IMAGE,object='dog')\n",
            "IMAGE0=CROP_RIGHTOF(image=IMAGE,box=BOX0)\n",
            "BOX1=LOC(image=IMAGE0,object='boy')\n",
            "ANSWER0=VQA(image=IMAGE0,question='Is the boy standing?')\n",
            "FINAL_RESULT=RESULT(var=ANSWER0)\n"
          ]
        },
        {
          "output_type": "stream",
          "name": "stderr",
          "text": [
            "\r 85%|████████▌ | 426/501 [1:09:30<10:22,  8.30s/it]"
          ]
        },
        {
          "output_type": "stream",
          "name": "stdout",
          "text": [
            "ground truth: left, predictions: ['left']\n",
            "total: 426, correct: {1: 252, 3: 280, 5: 281}\n",
            "BOX0=LOC(image=IMAGE,object='RIGHT')\n",
            "IMAGE0=CROP(image=IMAGE,box=BOX0)\n",
            "BOX1=LOC(image=IMAGE0,object='pot')\n",
            "ANSWER0=COUNT(box=BOX1)\n",
            "ANSWER1=EVAL(expr=\"'right' if {ANSWER0} > 0 else 'left'\")\n",
            "FINAL_RESULT=RESULT(var=ANSWER1)\n"
          ]
        },
        {
          "output_type": "stream",
          "name": "stderr",
          "text": [
            "\r 85%|████████▌ | 427/501 [1:09:31<07:27,  6.05s/it]"
          ]
        },
        {
          "output_type": "stream",
          "name": "stdout",
          "text": [
            "ground truth: no, predictions: ['no']\n",
            "total: 427, correct: {1: 253, 3: 281, 5: 282}\n",
            "ANSWER0=VQA(image=IMAGE,question='Is it indoors?')\n",
            "FINAL_RESULT=RESULT(var=ANSWER0)\n"
          ]
        },
        {
          "output_type": "stream",
          "name": "stderr",
          "text": [
            "\r 85%|████████▌ | 428/501 [1:09:35<06:54,  5.68s/it]"
          ]
        },
        {
          "output_type": "stream",
          "name": "stdout",
          "text": [
            "ground truth: no, predictions: ['no']\n",
            "total: 428, correct: {1: 254, 3: 282, 5: 283}\n",
            "BOX0=LOC(image=IMAGE,object='car')\n",
            "BOX1=LOC(image=IMAGE,object='window')\n",
            "ANSWER0=COUNT(box=BOX0)\n",
            "ANSWER1=COUNT(box=BOX1)\n",
            "ANSWER2=EVAL(expr=\"'yes' if {ANSWER0} > 0 and {ANSWER1} > 0 else 'no'\")\n",
            "FINAL_RESULT=RESULT(var=ANSWER2)\n"
          ]
        },
        {
          "output_type": "stream",
          "name": "stderr",
          "text": [
            "\r 86%|████████▌ | 429/501 [1:09:38<05:43,  4.77s/it]"
          ]
        },
        {
          "output_type": "stream",
          "name": "stdout",
          "text": [
            "ground truth: yes, predictions: ['no']\n",
            "total: 429, correct: {1: 254, 3: 282, 5: 283}\n",
            "BOX0=LOC(image=IMAGE,object='pepper')\n",
            "IMAGE0=CROP_NEXTTO(image=IMAGE,box=BOX0)\n",
            "BOX1=LOC(image=IMAGE0,object='vegetable')\n",
            "IMAGE1=CROP_LEFTOF(image=IMAGE0,box=BOX1)\n",
            "BOX2=LOC(image=IMAGE1,object='carrots')\n",
            "ANSWER0=COUNT(box=BOX2)\n",
            "ANSWER1=EVAL(expr=\"'yes' if {ANSWER0} > 0 else 'no'\")\n",
            "FINAL_RESULT=RESULT(var=ANSWER1)\n"
          ]
        },
        {
          "output_type": "stream",
          "name": "stderr",
          "text": [
            "\r 86%|████████▌ | 430/501 [1:09:44<06:06,  5.16s/it]"
          ]
        },
        {
          "output_type": "stream",
          "name": "stdout",
          "text": [
            "ground truth: yes, predictions: ['yes', 'no']\n",
            "total: 430, correct: {1: 255, 3: 283, 5: 284}\n",
            "BOX0=LOC(image=IMAGE,object='dumpsters')\n",
            "BOX1=LOC(image=IMAGE,object='umbrellas')\n",
            "ANSWER0=COUNT(box=BOX0)\n",
            "ANSWER1=COUNT(box=BOX1)\n",
            "ANSWER2=EVAL(expr=\"'yes' if {ANSWER0} + {ANSWER1} > 0 else 'no'\")\n",
            "FINAL_RESULT=RESULT(var=ANSWER2)\n"
          ]
        },
        {
          "output_type": "stream",
          "name": "stderr",
          "text": [
            "\r 86%|████████▌ | 431/501 [1:09:49<05:50,  5.01s/it]"
          ]
        },
        {
          "output_type": "stream",
          "name": "stdout",
          "text": [
            "ground truth: yes, predictions: ['no']\n",
            "total: 431, correct: {1: 255, 3: 283, 5: 284}\n",
            "BOX0=LOC(image=IMAGE,object='egg')\n",
            "IMAGE0=CROP_LEFTOF(image=IMAGE,box=BOX0)\n",
            "BOX1=LOC(image=IMAGE0,object='green asparagus')\n",
            "ANSWER0=COUNT(box=BOX1)\n",
            "ANSWER1=EVAL(expr=\"'yes' if {ANSWER0} > 0 else 'no'\")\n",
            "FINAL_RESULT=RESULT(var=ANSWER1)\n"
          ]
        },
        {
          "output_type": "stream",
          "name": "stderr",
          "text": [
            "\r 86%|████████▌ | 432/501 [1:09:55<06:04,  5.28s/it]"
          ]
        },
        {
          "output_type": "stream",
          "name": "stdout",
          "text": [
            "ground truth: no, predictions: ['no']\n",
            "total: 432, correct: {1: 256, 3: 284, 5: 285}\n",
            "BOX0=LOC(image=IMAGE,object='umpire')\n",
            "BOX1=LOC(image=IMAGE,object='catcher')\n",
            "ANSWER0=COUNT(box=BOX0)\n",
            "ANSWER1=COUNT(box=BOX1)\n",
            "ANSWER2=EVAL(expr=\"'yes' if {ANSWER0} + {ANSWER1} > 0 else 'no'\")\n",
            "FINAL_RESULT=RESULT(var=ANSWER2)\n"
          ]
        },
        {
          "output_type": "stream",
          "name": "stderr",
          "text": [
            "\r 86%|████████▋ | 433/501 [1:10:08<08:49,  7.79s/it]"
          ]
        },
        {
          "output_type": "stream",
          "name": "stdout",
          "text": [
            "ground truth: right, predictions: ['right', 'left']\n",
            "total: 433, correct: {1: 257, 3: 285, 5: 286}\n",
            "BOX0=LOC(image=IMAGE,object='man')\n",
            "IMAGE0=CROP_RIGHTOF(image=IMAGE,box=BOX0)\n",
            "BOX1=LOC(image=IMAGE0,object='tennis racket')\n",
            "ANSWER0=COUNT(box=BOX1)\n",
            "ANSWER1=EVAL(expr=\"'right' if {ANSWER0} > 0 else 'left'\")\n",
            "FINAL_RESULT=RESULT(var=ANSWER1)\n"
          ]
        },
        {
          "output_type": "stream",
          "name": "stderr",
          "text": [
            "\r 87%|████████▋ | 434/501 [1:10:14<08:07,  7.28s/it]"
          ]
        },
        {
          "output_type": "stream",
          "name": "stdout",
          "text": [
            "ground truth: yes, predictions: ['no']\n",
            "total: 434, correct: {1: 257, 3: 285, 5: 286}\n",
            "BOX0=LOC(image=IMAGE,object='window')\n",
            "BOX1=LOC(image=IMAGE,object='door')\n",
            "ANSWER0=COUNT(box=BOX0)\n",
            "ANSWER1=COUNT(box=BOX1)\n",
            "ANSWER2=EVAL(expr=\"'yes' if {ANSWER0} + {ANSWER1} > 0 else 'no'\")\n",
            "FINAL_RESULT=RESULT(var=ANSWER2)\n"
          ]
        },
        {
          "output_type": "stream",
          "name": "stderr",
          "text": [
            "\r 87%|████████▋ | 435/501 [1:10:30<10:41,  9.72s/it]"
          ]
        },
        {
          "output_type": "stream",
          "name": "stdout",
          "text": [
            "ground truth: yes, predictions: ['no', 'yes']\n",
            "total: 435, correct: {1: 257, 3: 286, 5: 287}\n",
            "BOX0=LOC(image=IMAGE,object='street')\n",
            "IMAGE0=CROP(image=IMAGE,box=BOX0)\n",
            "BOX1=LOC(image=IMAGE0,object='car')\n",
            "ANSWER0=COUNT(box=BOX1)\n",
            "ANSWER1=EVAL(expr=\"'yes' if {ANSWER0} > 0 else 'no'\")\n",
            "FINAL_RESULT=RESULT(var=ANSWER1)\n"
          ]
        },
        {
          "output_type": "stream",
          "name": "stderr",
          "text": [
            "\r 87%|████████▋ | 436/501 [1:10:36<09:17,  8.57s/it]"
          ]
        },
        {
          "output_type": "stream",
          "name": "stdout",
          "text": [
            "ground truth: large, predictions: ['small']\n",
            "total: 436, correct: {1: 257, 3: 286, 5: 287}\n",
            "BOX0=LOC(image=IMAGE,object='plate')\n",
            "IMAGE0=CROP(image=IMAGE,box=BOX0)\n",
            "ANSWER0=VQA(image=IMAGE0,question='Do you think the plate is large or small?')\n",
            "FINAL_RESULT=RESULT(var=ANSWER0)\n"
          ]
        },
        {
          "output_type": "stream",
          "name": "stderr",
          "text": [
            "\r 87%|████████▋ | 437/501 [1:10:40<07:51,  7.37s/it]"
          ]
        },
        {
          "output_type": "stream",
          "name": "stdout",
          "text": [
            "ground truth: yes, predictions: ['no']\n",
            "total: 437, correct: {1: 257, 3: 286, 5: 287}\n",
            "BOX0=LOC(image=IMAGE,object='truck')\n",
            "ANSWER0=VQA(image=IMAGE,question='What color are the trucks?')\n",
            "ANSWER1=EVAL(expr=\"'yes' if {ANSWER0} != 'orange' else 'no'\")\n",
            "FINAL_RESULT=RESULT(var=ANSWER1)\n"
          ]
        },
        {
          "output_type": "stream",
          "name": "stderr",
          "text": [
            "\r 87%|████████▋ | 438/501 [1:10:45<06:54,  6.59s/it]"
          ]
        },
        {
          "output_type": "stream",
          "name": "stdout",
          "text": [
            "ground truth: no, predictions: ['no']\n",
            "total: 438, correct: {1: 258, 3: 287, 5: 288}\n",
            "BOX0=LOC(image=IMAGE,object='chess pieces')\n",
            "BOX1=LOC(image=IMAGE,object='placemats')\n",
            "ANSWER0=COUNT(box=BOX0)\n",
            "ANSWER1=COUNT(box=BOX1)\n",
            "ANSWER2=EVAL(expr=\"'yes' if {ANSWER0} + {ANSWER1} > 0 else 'no'\")\n",
            "FINAL_RESULT=RESULT(var=ANSWER2)\n"
          ]
        },
        {
          "output_type": "stream",
          "name": "stderr",
          "text": [
            "\r 88%|████████▊ | 439/501 [1:10:48<05:38,  5.46s/it]"
          ]
        },
        {
          "output_type": "stream",
          "name": "stdout",
          "text": [
            "ground truth: no, predictions: ['no']\n",
            "total: 439, correct: {1: 259, 3: 288, 5: 289}\n",
            "BOX0=LOC(image=IMAGE,object='fork')\n",
            "IMAGE0=CROP(image=IMAGE,box=BOX0)\n",
            "ANSWER0=VQA(image=IMAGE0,question='Does this fork look clean?')\n",
            "FINAL_RESULT=RESULT(var=ANSWER0)\n"
          ]
        },
        {
          "output_type": "stream",
          "name": "stderr",
          "text": [
            "\r 88%|████████▊ | 440/501 [1:10:51<04:53,  4.81s/it]"
          ]
        },
        {
          "output_type": "stream",
          "name": "stdout",
          "text": [
            "ground truth: yes, predictions: ['no']\n",
            "total: 440, correct: {1: 259, 3: 288, 5: 289}\n",
            "BOX0=LOC(image=IMAGE,object='surfboard')\n",
            "IMAGE0=CROP(image=IMAGE,box=BOX0)\n",
            "ANSWER0=VQA(image=IMAGE0,question='What color is the surfboard?')\n",
            "ANSWER1=EVAL(expr=\"'yes' if {ANSWER0} == 'white' else 'no'\")\n",
            "FINAL_RESULT=RESULT(var=ANSWER1)\n"
          ]
        },
        {
          "output_type": "stream",
          "name": "stderr",
          "text": [
            "\r 88%|████████▊ | 441/501 [1:10:52<03:44,  3.73s/it]"
          ]
        },
        {
          "output_type": "stream",
          "name": "stdout",
          "text": [
            "ground truth: dresser, predictions: ['dresser']\n",
            "total: 441, correct: {1: 260, 3: 289, 5: 290}\n",
            "ANSWER0=VQA(image=IMAGE,question='Which kind of furniture is it?')\n",
            "FINAL_RESULT=RESULT(var=ANSWER0)\n"
          ]
        },
        {
          "output_type": "stream",
          "name": "stderr",
          "text": [
            "\r 88%|████████▊ | 442/501 [1:10:58<04:06,  4.18s/it]"
          ]
        },
        {
          "output_type": "stream",
          "name": "stdout",
          "text": [
            "ground truth: no, predictions: ['yes', 'no']\n",
            "total: 442, correct: {1: 260, 3: 290, 5: 291}\n",
            "BOX0=LOC(image=IMAGE,object='pliers')\n",
            "BOX1=LOC(image=IMAGE,object='car')\n",
            "ANSWER0=COUNT(box=BOX0)\n",
            "ANSWER1=COUNT(box=BOX1)\n",
            "ANSWER2=EVAL(expr=\"'yes' if {ANSWER0} + {ANSWER1} > 0 else 'no'\")\n",
            "FINAL_RESULT=RESULT(var=ANSWER2)\n"
          ]
        },
        {
          "output_type": "stream",
          "name": "stderr",
          "text": [
            "\r 88%|████████▊ | 443/501 [1:11:11<06:34,  6.80s/it]"
          ]
        },
        {
          "output_type": "stream",
          "name": "stdout",
          "text": [
            "ground truth: yes, predictions: ['no']\n",
            "total: 443, correct: {1: 260, 3: 290, 5: 291}\n",
            "BOX0=LOC(image=IMAGE,object='person')\n",
            "IMAGE0=CROP(image=IMAGE,box=BOX0)\n",
            "BOX1=LOC(image=IMAGE0,object='clothes')\n",
            "IMAGE1=CROP_RIGHTOF(image=IMAGE0,box=BOX1)\n",
            "BOX2=LOC(image=IMAGE1,object='surfboard')\n",
            "ANSWER0=COUNT(box=BOX2)\n",
            "ANSWER1=EVAL(expr=\"'yes' if {ANSWER0} > 0 else 'no'\")\n",
            "FINAL_RESULT=RESULT(var=ANSWER1)\n"
          ]
        },
        {
          "output_type": "stream",
          "name": "stderr",
          "text": [
            "\r 89%|████████▊ | 444/501 [1:11:13<05:13,  5.50s/it]"
          ]
        },
        {
          "output_type": "stream",
          "name": "stdout",
          "text": [
            "ground truth: no, predictions: ['no']\n",
            "total: 444, correct: {1: 261, 3: 291, 5: 292}\n",
            "BOX0=LOC(image=IMAGE,object='fence')\n",
            "ANSWER0=COUNT(box=BOX0)\n",
            "ANSWER1=EVAL(expr=\"'yes' if {ANSWER0} > 0 else 'no'\")\n",
            "FINAL_RESULT=RESULT(var=ANSWER1)\n"
          ]
        },
        {
          "output_type": "stream",
          "name": "stderr",
          "text": [
            "\r 89%|████████▉ | 445/501 [1:11:15<04:15,  4.57s/it]"
          ]
        },
        {
          "output_type": "stream",
          "name": "stdout",
          "text": [
            "ground truth: no, predictions: ['no']\n",
            "total: 445, correct: {1: 262, 3: 292, 5: 293}\n",
            "BOX0=LOC(image=IMAGE,object='DOWN')\n",
            "IMAGE0=CROP_NOT(image=IMAGE,box=BOX0)\n",
            "BOX1=LOC(image=IMAGE0,object='surfboard')\n",
            "IMAGE1=CROP(image=IMAGE0,box=BOX1)\n",
            "ANSWER0=VQA(image=IMAGE1,question='Is the surfboard short?')\n",
            "ANSWER1=VQA(image=IMAGE1,question='What color is the surfboard?')\n",
            "ANSWER2=EVAL(expr=\"'yes' if {ANSWER0} == 'yes' and {ANSWER1} == 'white' else 'no'\")\n",
            "FINAL_RESULT=RESULT(var=ANSWER2)\n"
          ]
        },
        {
          "output_type": "stream",
          "name": "stderr",
          "text": [
            "\r 89%|████████▉ | 446/501 [1:11:18<03:37,  3.95s/it]"
          ]
        },
        {
          "output_type": "stream",
          "name": "stdout",
          "text": [
            "ground truth: no, predictions: ['no']\n",
            "total: 446, correct: {1: 263, 3: 293, 5: 294}\n",
            "BOX0=LOC(image=IMAGE,object='sand')\n",
            "IMAGE0=CROP(image=IMAGE,box=BOX0)\n",
            "ANSWER0=VQA(image=IMAGE0,question='What color is the sand?')\n",
            "ANSWER1=EVAL(expr=\"'yes' if {ANSWER0} != 'tan' else 'no'\")\n",
            "FINAL_RESULT=RESULT(var=ANSWER1)\n"
          ]
        },
        {
          "output_type": "stream",
          "name": "stderr",
          "text": [
            "\r 89%|████████▉ | 447/501 [1:11:22<03:41,  4.11s/it]"
          ]
        },
        {
          "output_type": "stream",
          "name": "stdout",
          "text": [
            "ground truth: yes, predictions: ['no']\n",
            "total: 447, correct: {1: 263, 3: 293, 5: 294}\n",
            "BOX0=LOC(image=IMAGE,object='pants')\n",
            "IMAGE0=CROP(image=IMAGE,box=BOX0)\n",
            "ANSWER0=VQA(image=IMAGE0,question='What color are the pants?')\n",
            "ANSWER1=EVAL(expr=\"'yes' if {ANSWER0} == 'beige' else 'no'\")\n",
            "FINAL_RESULT=RESULT(var=ANSWER1)\n"
          ]
        },
        {
          "output_type": "stream",
          "name": "stderr",
          "text": [
            "\r 89%|████████▉ | 448/501 [1:11:25<03:11,  3.62s/it]"
          ]
        },
        {
          "output_type": "stream",
          "name": "stdout",
          "text": [
            "ground truth: no, predictions: ['no']\n",
            "total: 448, correct: {1: 264, 3: 294, 5: 295}\n",
            "BOX0=LOC(image=IMAGE,object='can')\n",
            "IMAGE0=CROP(image=IMAGE,box=BOX0)\n",
            "ANSWER0=VQA(image=IMAGE0,question='What color is the can?')\n",
            "ANSWER1=EVAL(expr=\"'yes' if {ANSWER0} == 'silver' else 'no'\")\n",
            "FINAL_RESULT=RESULT(var=ANSWER1)\n"
          ]
        },
        {
          "output_type": "stream",
          "name": "stderr",
          "text": [
            "\r 90%|████████▉ | 449/501 [1:11:30<03:24,  3.94s/it]"
          ]
        },
        {
          "output_type": "stream",
          "name": "stdout",
          "text": [
            "ground truth: no, predictions: ['yes', 'no']\n",
            "total: 449, correct: {1: 264, 3: 295, 5: 296}\n",
            "BOX0=LOC(image=IMAGE,object='helmet')\n",
            "BOX1=LOC(image=IMAGE,object='fence')\n",
            "ANSWER0=COUNT(box=BOX0)\n",
            "ANSWER1=COUNT(box=BOX1)\n",
            "ANSWER2=EVAL(expr=\"'yes' if {ANSWER0} + {ANSWER1} > 0 else 'no'\")\n",
            "FINAL_RESULT=RESULT(var=ANSWER2)\n"
          ]
        },
        {
          "output_type": "stream",
          "name": "stderr",
          "text": [
            "\r 90%|████████▉ | 450/501 [1:11:32<02:58,  3.49s/it]"
          ]
        },
        {
          "output_type": "stream",
          "name": "stdout",
          "text": [
            "ground truth: small, predictions: ['no']\n",
            "total: 450, correct: {1: 264, 3: 295, 5: 296}\n",
            "BOX0=LOC(image=IMAGE,object='apple')\n",
            "IMAGE0=CROP_RIGHTOF(image=IMAGE,box=BOX0)\n",
            "BOX1=LOC(image=IMAGE0,object='orange')\n",
            "ANSWER0=VQA(image=IMAGE0,question='Is the orange small or large?')\n",
            "FINAL_RESULT=RESULT(var=ANSWER0)\n"
          ]
        },
        {
          "output_type": "stream",
          "name": "stderr",
          "text": [
            "\r 90%|█████████ | 451/501 [1:14:23<44:52, 53.85s/it]"
          ]
        },
        {
          "output_type": "stream",
          "name": "stdout",
          "text": [
            "ground truth: no, predictions: ['yes']\n",
            "total: 451, correct: {1: 264, 3: 295, 5: 296}\n",
            "BOX0=LOC(image=IMAGE,object='RIGHT')\n",
            "IMAGE0=CROP(image=IMAGE,box=BOX0)\n",
            "BOX1=LOC(image=IMAGE0,object='man')\n",
            "IMAGE1=CROP_RIGHTOF(image=IMAGE0,box=BOX1)\n",
            "BOX2=LOC(image=IMAGE1,object='car')\n",
            "ANSWER0=COUNT(box=BOX2)\n",
            "ANSWER1=EVAL(expr=\"'yes' if {ANSWER0} > 0 else 'no'\")\n",
            "FINAL_RESULT=RESULT(var=ANSWER1)\n"
          ]
        },
        {
          "output_type": "stream",
          "name": "stderr",
          "text": [
            "\r 90%|█████████ | 452/501 [1:14:25<31:07, 38.12s/it]"
          ]
        },
        {
          "output_type": "stream",
          "name": "stdout",
          "text": [
            "ground truth: no, predictions: ['no']\n",
            "total: 452, correct: {1: 265, 3: 296, 5: 297}\n",
            "ANSWER0=VQA(image=IMAGE,question='Is the door open?')\n",
            "FINAL_RESULT=RESULT(var=ANSWER0)\n"
          ]
        },
        {
          "output_type": "stream",
          "name": "stderr",
          "text": [
            "\r 90%|█████████ | 453/501 [1:14:54<28:24, 35.52s/it]"
          ]
        },
        {
          "output_type": "stream",
          "name": "stdout",
          "text": [
            "ground truth: red, predictions: ['red white and blue', 'yellow', 'red', 'orange', 'blue']\n",
            "total: 453, correct: {1: 266, 3: 297, 5: 298}\n",
            "BOX0=LOC(image=IMAGE,object='American flag')\n",
            "IMAGE0=CROP_RIGHTOF(image=IMAGE,box=BOX0)\n",
            "BOX1=LOC(image=IMAGE0,object='American flag')\n",
            "IMAGE1=CROP(image=IMAGE0,box=BOX1)\n",
            "ANSWER0=VQA(image=IMAGE1,question='What color is the American flag?')\n",
            "FINAL_RESULT=RESULT(var=ANSWER0)\n"
          ]
        },
        {
          "output_type": "stream",
          "name": "stderr",
          "text": [
            "\r 91%|█████████ | 454/501 [1:15:12<23:37, 30.16s/it]"
          ]
        },
        {
          "output_type": "stream",
          "name": "stdout",
          "text": [
            "ground truth: no, predictions: ['yes']\n",
            "total: 454, correct: {1: 266, 3: 297, 5: 298}\n",
            "BOX0=LOC(image=IMAGE,object='dugout')\n",
            "IMAGE0=CROP(image=IMAGE,box=BOX0)\n",
            "BOX1=LOC(image=IMAGE0,object='player')\n",
            "IMAGE1=CROP_LEFTOF(image=IMAGE0,box=BOX1)\n",
            "BOX2=LOC(image=IMAGE1,object='balls')\n",
            "ANSWER0=COUNT(box=BOX2)\n",
            "ANSWER1=EVAL(expr=\"'yes' if {ANSWER0} > 0 else 'no'\")\n",
            "FINAL_RESULT=RESULT(var=ANSWER1)\n"
          ]
        },
        {
          "output_type": "stream",
          "name": "stderr",
          "text": [
            "\r 91%|█████████ | 455/501 [1:15:14<16:44, 21.85s/it]"
          ]
        },
        {
          "output_type": "stream",
          "name": "stdout",
          "text": [
            "ground truth: no, predictions: ['no']\n",
            "total: 455, correct: {1: 267, 3: 298, 5: 299}\n",
            "BOX0=LOC(image=IMAGE,object='speaker')\n",
            "IMAGE0=CROP_RIGHTOF(image=IMAGE,box=BOX0)\n",
            "BOX1=LOC(image=IMAGE0,object='Wii')\n",
            "ANSWER0=COUNT(box=BOX1)\n",
            "ANSWER1=EVAL(expr=\"'yes' if {ANSWER0} > 0 else 'no'\")\n",
            "FINAL_RESULT=RESULT(var=ANSWER1)\n"
          ]
        },
        {
          "output_type": "stream",
          "name": "stderr",
          "text": [
            "\r 91%|█████████ | 456/501 [1:15:25<13:56, 18.59s/it]"
          ]
        },
        {
          "output_type": "stream",
          "name": "stdout",
          "text": [
            "ground truth: yes, predictions: ['no', 'yes']\n",
            "total: 456, correct: {1: 267, 3: 299, 5: 300}\n",
            "BOX0=LOC(image=IMAGE,object='man')\n",
            "IMAGE0=CROP_RIGHTOF(image=IMAGE,box=BOX0)\n",
            "BOX1=LOC(image=IMAGE0,object='carriage')\n",
            "ANSWER0=COUNT(box=BOX1)\n",
            "ANSWER1=EVAL(expr=\"'yes' if {ANSWER0} > 0 else 'no'\")\n",
            "FINAL_RESULT=RESULT(var=ANSWER1)\n"
          ]
        },
        {
          "output_type": "stream",
          "name": "stderr",
          "text": [
            "\r 91%|█████████ | 457/501 [1:16:15<20:29, 27.95s/it]"
          ]
        },
        {
          "output_type": "stream",
          "name": "stdout",
          "text": [
            "ground truth: yes, predictions: ['yes', 'no']\n",
            "total: 457, correct: {1: 268, 3: 300, 5: 301}\n",
            "BOX0=LOC(image=IMAGE,object='ground')\n",
            "IMAGE0=CROP(image=IMAGE,box=BOX0)\n",
            "BOX1=LOC(image=IMAGE0,object='kite')\n",
            "IMAGE1=CROP(image=IMAGE0,box=BOX1)\n",
            "ANSWER0=VQA(image=IMAGE1,question='Does the kite look colorful?')\n",
            "FINAL_RESULT=RESULT(var=ANSWER0)\n"
          ]
        },
        {
          "output_type": "stream",
          "name": "stderr",
          "text": [
            "\r 91%|█████████▏| 458/501 [1:16:20<15:00, 20.95s/it]"
          ]
        },
        {
          "output_type": "stream",
          "name": "stdout",
          "text": [
            "ground truth: no, predictions: ['no']\n",
            "total: 458, correct: {1: 269, 3: 301, 5: 302}\n",
            "BOX0=LOC(image=IMAGE,object='monkey')\n",
            "IMAGE0=CROP(image=IMAGE,box=BOX0)\n",
            "ANSWER0=VQA(image=IMAGE0,question='What color is the monkey?')\n",
            "ANSWER1=EVAL(expr=\"'yes' if {ANSWER0} != 'purple' else 'no'\")\n",
            "FINAL_RESULT=RESULT(var=ANSWER1)\n"
          ]
        },
        {
          "output_type": "stream",
          "name": "stderr",
          "text": [
            "\r 92%|█████████▏| 459/501 [1:16:36<13:38, 19.49s/it]"
          ]
        },
        {
          "output_type": "stream",
          "name": "stdout",
          "text": [
            "ground truth: no, predictions: ['no', 'yes']\n",
            "total: 459, correct: {1: 270, 3: 302, 5: 303}\n",
            "BOX0=LOC(image=IMAGE,object='doughnuts')\n",
            "IMAGE0=CROP_ABOVE(image=IMAGE,box=BOX0)\n",
            "BOX1=LOC(image=IMAGE0,object='can')\n",
            "ANSWER0=COUNT(box=BOX1)\n",
            "ANSWER1=EVAL(expr=\"'yes' if {ANSWER0} > 0 else 'no'\")\n",
            "FINAL_RESULT=RESULT(var=ANSWER1)\n"
          ]
        },
        {
          "output_type": "stream",
          "name": "stderr",
          "text": [
            "\r 92%|█████████▏| 460/501 [1:16:41<10:17, 15.05s/it]"
          ]
        },
        {
          "output_type": "stream",
          "name": "stdout",
          "text": [
            "ground truth: no, predictions: ['no', 'yes']\n",
            "total: 460, correct: {1: 271, 3: 303, 5: 304}\n",
            "BOX0=LOC(image=IMAGE,object='chair')\n",
            "BOX1=LOC(image=IMAGE,object='shelf')\n",
            "ANSWER0=COUNT(box=BOX0)\n",
            "ANSWER1=COUNT(box=BOX1)\n",
            "ANSWER2=EVAL(expr=\"'yes' if {ANSWER0} + {ANSWER1} > 0 else 'no'\")\n",
            "FINAL_RESULT=RESULT(var=ANSWER2)\n"
          ]
        },
        {
          "output_type": "stream",
          "name": "stderr",
          "text": [
            "\r 92%|█████████▏| 461/501 [1:16:45<07:58, 11.96s/it]"
          ]
        },
        {
          "output_type": "stream",
          "name": "stdout",
          "text": [
            "ground truth: yes, predictions: ['no']\n",
            "total: 461, correct: {1: 271, 3: 303, 5: 304}\n",
            "BOX0=LOC(image=IMAGE,object='clock')\n",
            "IMAGE0=CROP_LEFTOF(image=IMAGE,box=BOX0)\n",
            "BOX1=LOC(image=IMAGE0,object='woman')\n",
            "IMAGE1=CROP_BEHIND(image=IMAGE0,box=BOX1)\n",
            "BOX2=LOC(image=IMAGE1,object='man')\n",
            "ANSWER0=COUNT(box=BOX2)\n",
            "ANSWER1=EVAL(expr=\"'yes' if {ANSWER0} > 0 else 'no'\")\n",
            "FINAL_RESULT=RESULT(var=ANSWER1)\n"
          ]
        },
        {
          "output_type": "stream",
          "name": "stderr",
          "text": [
            "\r 92%|█████████▏| 462/501 [1:16:51<06:37, 10.20s/it]"
          ]
        },
        {
          "output_type": "stream",
          "name": "stdout",
          "text": [
            "ground truth: no, predictions: ['no']\n",
            "total: 462, correct: {1: 272, 3: 304, 5: 305}\n",
            "BOX0=LOC(image=IMAGE,object='bowl')\n",
            "IMAGE0=CROP_RIGHTOF(image=IMAGE,box=BOX0)\n",
            "BOX1=LOC(image=IMAGE0,object='chair')\n",
            "ANSWER0=COUNT(box=BOX1)\n",
            "ANSWER1=EVAL(expr=\"'yes' if {ANSWER0} > 0 else 'no'\")\n",
            "FINAL_RESULT=RESULT(var=ANSWER1)\n"
          ]
        },
        {
          "output_type": "stream",
          "name": "stderr",
          "text": [
            "\r 92%|█████████▏| 463/501 [1:16:55<05:15,  8.31s/it]"
          ]
        },
        {
          "output_type": "stream",
          "name": "stdout",
          "text": [
            "ground truth: no, predictions: ['no']\n",
            "total: 463, correct: {1: 273, 3: 305, 5: 306}\n",
            "BOX0=LOC(image=IMAGE,object='bus')\n",
            "IMAGE0=CROP(image=IMAGE,box=BOX0)\n",
            "ANSWER0=VQA(image=IMAGE0,question='What color is the bus?')\n",
            "ANSWER1=EVAL(expr=\"'yes' if {ANSWER0} == 'green' else 'no'\")\n",
            "FINAL_RESULT=RESULT(var=ANSWER1)\n"
          ]
        },
        {
          "output_type": "stream",
          "name": "stderr",
          "text": [
            "\r 93%|█████████▎| 464/501 [1:16:59<04:19,  7.01s/it]"
          ]
        },
        {
          "output_type": "stream",
          "name": "stdout",
          "text": [
            "ground truth: no, predictions: ['no']\n",
            "total: 464, correct: {1: 274, 3: 306, 5: 307}\n",
            "BOX0=LOC(image=IMAGE,object='field')\n",
            "IMAGE0=CROP(image=IMAGE,box=BOX0)\n",
            "ANSWER0=VQA(image=IMAGE0,question='What color is the field?')\n",
            "ANSWER1=VQA(image=IMAGE0,question='Is the field lush?')\n",
            "ANSWER2=EVAL(expr=\"'yes' if {ANSWER0} == 'brown' and {ANSWER1} == 'yes' else 'no'\")\n",
            "FINAL_RESULT=RESULT(var=ANSWER2)\n"
          ]
        },
        {
          "output_type": "stream",
          "name": "stderr",
          "text": [
            "\r 93%|█████████▎| 465/501 [1:17:29<08:14, 13.75s/it]"
          ]
        },
        {
          "output_type": "stream",
          "name": "stdout",
          "text": [
            "ground truth: no, predictions: ['no', 'yes']\n",
            "total: 465, correct: {1: 275, 3: 307, 5: 308}\n",
            "BOX0=LOC(image=IMAGE,object='man')\n",
            "IMAGE0=CROP_LEFTOF(image=IMAGE,box=BOX0)\n",
            "BOX1=LOC(image=IMAGE0,object='woman')\n",
            "BOX2=LOC(image=IMAGE0,object='glasses')\n",
            "ANSWER0=COUNT(box=BOX1)\n",
            "ANSWER1=COUNT(box=BOX2)\n",
            "ANSWER2=EVAL(expr=\"'yes' if {ANSWER0} > 0 and {ANSWER1} > 0 else 'no'\")\n",
            "FINAL_RESULT=RESULT(var=ANSWER2)\n"
          ]
        },
        {
          "output_type": "stream",
          "name": "stderr",
          "text": [
            "\r 93%|█████████▎| 466/501 [1:17:32<06:11, 10.62s/it]"
          ]
        },
        {
          "output_type": "stream",
          "name": "stdout",
          "text": [
            "ground truth: yes, predictions: ['no', 'yes']\n",
            "total: 466, correct: {1: 275, 3: 308, 5: 309}\n",
            "BOX0=LOC(image=IMAGE,object='bus')\n",
            "ANSWER0=COUNT(box=BOX0)\n",
            "ANSWER1=EVAL(expr=\"'yes' if {ANSWER0} > 0 else 'no'\")\n",
            "FINAL_RESULT=RESULT(var=ANSWER1)\n"
          ]
        },
        {
          "output_type": "stream",
          "name": "stderr",
          "text": [
            "\r 93%|█████████▎| 467/501 [1:17:37<05:01,  8.87s/it]"
          ]
        },
        {
          "output_type": "stream",
          "name": "stdout",
          "text": [
            "ground truth: no, predictions: ['yes', 'no']\n",
            "total: 467, correct: {1: 275, 3: 309, 5: 310}\n",
            "BOX0=LOC(image=IMAGE,object='surfboard')\n",
            "BOX1=LOC(image=IMAGE,object='tray')\n",
            "ANSWER0=COUNT(box=BOX0)\n",
            "ANSWER1=COUNT(box=BOX1)\n",
            "ANSWER2=EVAL(expr=\"'yes' if {ANSWER0} + {ANSWER1} > 0 else 'no'\")\n",
            "FINAL_RESULT=RESULT(var=ANSWER2)\n"
          ]
        },
        {
          "output_type": "stream",
          "name": "stderr",
          "text": [
            "\r 93%|█████████▎| 468/501 [1:17:39<03:48,  6.93s/it]"
          ]
        },
        {
          "output_type": "stream",
          "name": "stdout",
          "text": [
            "ground truth: giraffe, predictions: ['no']\n",
            "total: 468, correct: {1: 275, 3: 309, 5: 310}\n",
            "BOX0=LOC(image=IMAGE,object='stroller')\n",
            "IMAGE0=CROP_BEHIND(image=IMAGE,box=BOX0)\n",
            "ANSWER0=VQA(image=IMAGE0,question='What animal is that?')\n",
            "FINAL_RESULT=RESULT(var=ANSWER0)\n"
          ]
        },
        {
          "output_type": "stream",
          "name": "stderr",
          "text": [
            "\r 94%|█████████▎| 469/501 [1:17:42<03:02,  5.71s/it]"
          ]
        },
        {
          "output_type": "stream",
          "name": "stdout",
          "text": [
            "ground truth: left, predictions: ['no']\n",
            "total: 469, correct: {1: 275, 3: 309, 5: 310}\n",
            "BOX0=LOC(image=IMAGE,object='woman')\n",
            "IMAGE0=CROP(image=IMAGE,box=BOX0)\n",
            "ANSWER0=VQA(image=IMAGE0,question='On which side is the woman?')\n",
            "FINAL_RESULT=RESULT(var=ANSWER0)\n"
          ]
        },
        {
          "output_type": "stream",
          "name": "stderr",
          "text": [
            "\r 94%|█████████▍| 470/501 [1:17:59<04:37,  8.95s/it]"
          ]
        },
        {
          "output_type": "stream",
          "name": "stdout",
          "text": [
            "ground truth: no, predictions: ['no', 'yes']\n",
            "total: 470, correct: {1: 276, 3: 310, 5: 311}\n",
            "BOX0=LOC(image=IMAGE,object='young person')\n",
            "IMAGE0=CROP_LEFTOF(image=IMAGE,box=BOX0)\n",
            "BOX1=LOC(image=IMAGE0,object='man')\n",
            "ANSWER0=COUNT(box=BOX1)\n",
            "ANSWER1=EVAL(expr=\"'yes' if {ANSWER0} > 0 else 'no'\")\n",
            "FINAL_RESULT=RESULT(var=ANSWER1)\n"
          ]
        },
        {
          "output_type": "stream",
          "name": "stderr",
          "text": [
            "\r 94%|█████████▍| 471/501 [1:18:01<03:31,  7.04s/it]"
          ]
        },
        {
          "output_type": "stream",
          "name": "stdout",
          "text": [
            "ground truth: no, predictions: ['no']\n",
            "total: 471, correct: {1: 277, 3: 311, 5: 312}\n",
            "BOX0=LOC(image=IMAGE,object='cat')\n",
            "ANSWER0=COUNT(box=BOX0)\n",
            "ANSWER1=EVAL(expr=\"'yes' if {ANSWER0} > 0 else 'no'\")\n",
            "FINAL_RESULT=RESULT(var=ANSWER1)\n"
          ]
        },
        {
          "output_type": "stream",
          "name": "stderr",
          "text": [
            "\r 94%|█████████▍| 472/501 [1:18:06<03:04,  6.35s/it]"
          ]
        },
        {
          "output_type": "stream",
          "name": "stdout",
          "text": [
            "ground truth: no, predictions: ['no']\n",
            "total: 472, correct: {1: 278, 3: 312, 5: 313}\n",
            "BOX0=LOC(image=IMAGE,object='hand soap')\n",
            "BOX1=LOC(image=IMAGE,object='garland')\n",
            "ANSWER0=COUNT(box=BOX0)\n",
            "ANSWER1=COUNT(box=BOX1)\n",
            "ANSWER2=EVAL(expr=\"'yes' if {ANSWER0} + {ANSWER1} > 0 else 'no'\")\n",
            "FINAL_RESULT=RESULT(var=ANSWER2)\n"
          ]
        },
        {
          "output_type": "stream",
          "name": "stderr",
          "text": [
            "\r 94%|█████████▍| 473/501 [1:18:07<02:11,  4.70s/it]"
          ]
        },
        {
          "output_type": "stream",
          "name": "stdout",
          "text": [
            "ground truth: table, predictions: ['table']\n",
            "total: 473, correct: {1: 279, 3: 313, 5: 314}\n",
            "ANSWER0=VQA(image=IMAGE,question='Is this a cabinet or a table?')\n",
            "FINAL_RESULT=RESULT(var=ANSWER0)\n"
          ]
        },
        {
          "output_type": "stream",
          "name": "stderr",
          "text": [
            "\r 95%|█████████▍| 474/501 [1:18:15<02:37,  5.84s/it]"
          ]
        },
        {
          "output_type": "stream",
          "name": "stdout",
          "text": [
            "ground truth: right, predictions: ['no']\n",
            "total: 474, correct: {1: 279, 3: 313, 5: 314}\n",
            "BOX0=LOC(image=IMAGE,object='horse')\n",
            "IMAGE0=CROP(image=IMAGE,box=BOX0)\n",
            "BOX1=LOC(image=IMAGE0,object='eating')\n",
            "IMAGE1=CROP_LEFTOF(image=IMAGE0,box=BOX1)\n",
            "BOX2=LOC(image=IMAGE1,object='tan animal')\n",
            "ANSWER0=COUNT(box=BOX2)\n",
            "ANSWER1=EVAL(expr=\"'left' if {ANSWER0} > 0 else 'right'\")\n",
            "FINAL_RESULT=RESULT(var=ANSWER1)\n"
          ]
        },
        {
          "output_type": "stream",
          "name": "stderr",
          "text": [
            "\r 95%|█████████▍| 475/501 [1:18:20<02:24,  5.54s/it]"
          ]
        },
        {
          "output_type": "stream",
          "name": "stdout",
          "text": [
            "ground truth: no, predictions: ['no']\n",
            "total: 475, correct: {1: 280, 3: 314, 5: 315}\n",
            "BOX0=LOC(image=IMAGE,object='snowboard')\n",
            "BOX1=LOC(image=IMAGE,object='mirror')\n",
            "ANSWER0=COUNT(box=BOX0)\n",
            "ANSWER1=COUNT(box=BOX1)\n",
            "ANSWER2=EVAL(expr=\"'yes' if {ANSWER0} + {ANSWER1} > 0 else 'no'\")\n",
            "FINAL_RESULT=RESULT(var=ANSWER2)\n"
          ]
        },
        {
          "output_type": "stream",
          "name": "stderr",
          "text": [
            "\r 95%|█████████▌| 476/501 [1:18:27<02:29,  5.96s/it]"
          ]
        },
        {
          "output_type": "stream",
          "name": "stdout",
          "text": [
            "ground truth: black, predictions: ['black']\n",
            "total: 476, correct: {1: 281, 3: 315, 5: 316}\n",
            "BOX0=LOC(image=IMAGE,object='pillow')\n",
            "IMAGE0=CROP_RIGHTOF(image=IMAGE,box=BOX0)\n",
            "BOX1=LOC(image=IMAGE0,object='device')\n",
            "IMAGE1=CROP(image=IMAGE0,box=BOX1)\n",
            "ANSWER0=VQA(image=IMAGE1,question='What color is the device?')\n",
            "FINAL_RESULT=RESULT(var=ANSWER0)\n"
          ]
        },
        {
          "output_type": "stream",
          "name": "stderr",
          "text": [
            "\r 95%|█████████▌| 477/501 [1:18:40<03:15,  8.16s/it]"
          ]
        },
        {
          "output_type": "stream",
          "name": "stdout",
          "text": [
            "ground truth: yes, predictions: ['no', 'yes']\n",
            "total: 477, correct: {1: 281, 3: 316, 5: 317}\n",
            "BOX0=LOC(image=IMAGE,object='food')\n",
            "IMAGE0=CROP_RIGHTOF(image=IMAGE,box=BOX0)\n",
            "BOX1=LOC(image=IMAGE0,object='man')\n",
            "ANSWER0=COUNT(box=BOX1)\n",
            "ANSWER1=EVAL(expr=\"'yes' if {ANSWER0} > 0 else 'no'\")\n",
            "FINAL_RESULT=RESULT(var=ANSWER1)\n"
          ]
        },
        {
          "output_type": "stream",
          "name": "stderr",
          "text": [
            "\r 95%|█████████▌| 478/501 [1:20:01<11:27, 29.89s/it]"
          ]
        },
        {
          "output_type": "stream",
          "name": "stdout",
          "text": [
            "ground truth: no, predictions: ['no']\n",
            "total: 478, correct: {1: 282, 3: 317, 5: 318}\n",
            "BOX0=LOC(image=IMAGE,object='RIGHT')\n",
            "IMAGE0=CROP(image=IMAGE,box=BOX0)\n",
            "BOX1=LOC(image=IMAGE0,object='shelf')\n",
            "IMAGE1=CROP(image=IMAGE0,box=BOX1)\n",
            "BOX2=LOC(image=IMAGE1,object='bottle')\n",
            "ANSWER0=COUNT(box=BOX2)\n",
            "ANSWER1=EVAL(expr=\"'yes' if {ANSWER0} > 0 else 'no'\")\n",
            "FINAL_RESULT=RESULT(var=ANSWER1)\n"
          ]
        },
        {
          "output_type": "stream",
          "name": "stderr",
          "text": [
            "\r 96%|█████████▌| 479/501 [1:20:10<08:37, 23.51s/it]"
          ]
        },
        {
          "output_type": "stream",
          "name": "stdout",
          "text": [
            "ground truth: yes, predictions: ['no', 'yes']\n",
            "total: 479, correct: {1: 282, 3: 318, 5: 319}\n",
            "BOX0=LOC(image=IMAGE,object='cat')\n",
            "IMAGE0=CROP_LEFTOF(image=IMAGE,box=BOX0)\n",
            "BOX1=LOC(image=IMAGE0,object='pillow')\n",
            "ANSWER0=COUNT(box=BOX1)\n",
            "ANSWER1=EVAL(expr=\"'yes' if {ANSWER0} > 0 else 'no'\")\n",
            "FINAL_RESULT=RESULT(var=ANSWER1)\n"
          ]
        },
        {
          "output_type": "stream",
          "name": "stderr",
          "text": [
            "\r 96%|█████████▌| 480/501 [1:20:14<06:16, 17.93s/it]"
          ]
        },
        {
          "output_type": "stream",
          "name": "stdout",
          "text": [
            "ground truth: yes, predictions: ['yes', 'no']\n",
            "total: 480, correct: {1: 283, 3: 319, 5: 320}\n",
            "BOX0=LOC(image=IMAGE,object='bottle')\n",
            "BOX1=LOC(image=IMAGE,object='fork')\n",
            "ANSWER0=COUNT(box=BOX0)\n",
            "ANSWER1=COUNT(box=BOX1)\n",
            "ANSWER2=EVAL(expr=\"'yes' if {ANSWER0} + {ANSWER1} > 0 else 'no'\")\n",
            "FINAL_RESULT=RESULT(var=ANSWER2)\n"
          ]
        },
        {
          "output_type": "stream",
          "name": "stderr",
          "text": [
            "\r 96%|█████████▌| 481/501 [1:20:17<04:25, 13.29s/it]"
          ]
        },
        {
          "output_type": "stream",
          "name": "stdout",
          "text": [
            "ground truth: yes, predictions: ['no']\n",
            "total: 481, correct: {1: 283, 3: 319, 5: 320}\n",
            "BOX0=LOC(image=IMAGE,object='LEFT')\n",
            "IMAGE0=CROP(image=IMAGE,box=BOX0)\n",
            "BOX1=LOC(image=IMAGE0,object='scooter')\n",
            "IMAGE1=CROP_RIGHTOF(image=IMAGE0,box=BOX1)\n",
            "BOX2=LOC(image=IMAGE1,object='skateboard')\n",
            "ANSWER0=COUNT(box=BOX2)\n",
            "ANSWER1=EVAL(expr=\"'yes' if {ANSWER0} > 0 else 'no'\")\n",
            "FINAL_RESULT=RESULT(var=ANSWER1)\n"
          ]
        },
        {
          "output_type": "stream",
          "name": "stderr",
          "text": [
            "\r 96%|█████████▌| 482/501 [1:20:20<03:15, 10.31s/it]"
          ]
        },
        {
          "output_type": "stream",
          "name": "stdout",
          "text": [
            "ground truth: yes, predictions: ['no']\n",
            "total: 482, correct: {1: 283, 3: 319, 5: 320}\n",
            "BOX0=LOC(image=IMAGE,object='pants')\n",
            "IMAGE0=CROP(image=IMAGE,box=BOX0)\n",
            "ANSWER0=VQA(image=IMAGE0,question='What color are the pants?')\n",
            "ANSWER1=EVAL(expr=\"'yes' if {ANSWER0} == 'light brown' else 'no'\")\n",
            "FINAL_RESULT=RESULT(var=ANSWER1)\n"
          ]
        },
        {
          "output_type": "stream",
          "name": "stderr",
          "text": [
            "\r 96%|█████████▋| 483/501 [1:20:23<02:26,  8.12s/it]"
          ]
        },
        {
          "output_type": "stream",
          "name": "stdout",
          "text": [
            "ground truth: no, predictions: ['yes', 'no']\n",
            "total: 483, correct: {1: 283, 3: 320, 5: 321}\n",
            "BOX0=LOC(image=IMAGE,object='bike')\n",
            "ANSWER0=COUNT(box=BOX0)\n",
            "ANSWER1=EVAL(expr=\"'yes' if {ANSWER0} > 0 else 'no'\")\n",
            "FINAL_RESULT=RESULT(var=ANSWER1)\n"
          ]
        },
        {
          "output_type": "stream",
          "name": "stderr",
          "text": [
            "\r 97%|█████████▋| 484/501 [1:21:11<05:38, 19.89s/it]"
          ]
        },
        {
          "output_type": "stream",
          "name": "stdout",
          "text": [
            "ground truth: sign, predictions: ['bike', 'bag', 'sign', 'nothing']\n",
            "total: 484, correct: {1: 283, 3: 321, 5: 322}\n",
            "BOX0=LOC(image=IMAGE,object='trash bin')\n",
            "IMAGE0=CROP_LEFTOF(image=IMAGE,box=BOX0)\n",
            "BOX1=LOC(image=IMAGE0,object='bicycle')\n",
            "IMAGE1=CROP_LEFTOF(image=IMAGE0,box=BOX1)\n",
            "ANSWER0=VQA(image=IMAGE1,question='What is leaning against the bicycle?')\n",
            "FINAL_RESULT=RESULT(var=ANSWER0)\n"
          ]
        },
        {
          "output_type": "stream",
          "name": "stderr",
          "text": [
            "\r 97%|█████████▋| 485/501 [1:21:13<03:54, 14.66s/it]"
          ]
        },
        {
          "output_type": "stream",
          "name": "stdout",
          "text": [
            "ground truth: yes, predictions: ['no', 'yes']\n",
            "total: 485, correct: {1: 283, 3: 322, 5: 323}\n",
            "BOX0=LOC(image=IMAGE,object='chair')\n",
            "ANSWER0=COUNT(box=BOX0)\n",
            "ANSWER1=EVAL(expr=\"'yes' if {ANSWER0} > 0 else 'no'\")\n",
            "FINAL_RESULT=RESULT(var=ANSWER1)\n"
          ]
        },
        {
          "output_type": "stream",
          "name": "stderr",
          "text": [
            "\r 97%|█████████▋| 486/501 [1:21:22<03:12, 12.85s/it]"
          ]
        },
        {
          "output_type": "stream",
          "name": "stdout",
          "text": [
            "ground truth: yes, predictions: ['no', 'yes']\n",
            "total: 486, correct: {1: 283, 3: 323, 5: 324}\n",
            "BOX0=LOC(image=IMAGE,object='microwave')\n",
            "IMAGE0=CROP_ABOVE(image=IMAGE,box=BOX0)\n",
            "BOX1=LOC(image=IMAGE0,object='cabinet')\n",
            "ANSWER0=COUNT(box=BOX1)\n",
            "ANSWER1=EVAL(expr=\"'yes' if {ANSWER0} > 0 else 'no'\")\n",
            "FINAL_RESULT=RESULT(var=ANSWER1)\n"
          ]
        },
        {
          "output_type": "stream",
          "name": "stderr",
          "text": [
            "\r 97%|█████████▋| 487/501 [1:21:35<03:01, 12.95s/it]"
          ]
        },
        {
          "output_type": "stream",
          "name": "stdout",
          "text": [
            "ground truth: yes, predictions: ['no']\n",
            "total: 487, correct: {1: 283, 3: 323, 5: 324}\n",
            "BOX0=LOC(image=IMAGE,object='tree')\n",
            "IMAGE0=CROP(image=IMAGE,box=BOX0)\n",
            "BOX1=LOC(image=IMAGE,object='truck')\n",
            "IMAGE1=CROP(image=IMAGE,box=BOX1)\n",
            "ANSWER0=VQA(image=IMAGE0,question='What color is the tree?')\n",
            "ANSWER1=VQA(image=IMAGE1,question='What color is the truck?')\n",
            "ANSWER2=EVAL(expr=\"'yes' if {ANSWER0} != {ANSWER1} else 'no'\")\n",
            "FINAL_RESULT=RESULT(var=ANSWER2)\n"
          ]
        },
        {
          "output_type": "stream",
          "name": "stderr",
          "text": [
            "\r 97%|█████████▋| 488/501 [1:21:39<02:13, 10.27s/it]"
          ]
        },
        {
          "output_type": "stream",
          "name": "stdout",
          "text": [
            "ground truth: no, predictions: ['yes']\n",
            "total: 488, correct: {1: 283, 3: 323, 5: 324}\n",
            "BOX0=LOC(image=IMAGE,object='steak')\n",
            "IMAGE0=CROP(image=IMAGE,box=BOX0)\n",
            "ANSWER0=VQA(image=IMAGE0,question='Does the steak look large and brown?')\n",
            "FINAL_RESULT=RESULT(var=ANSWER0)\n"
          ]
        },
        {
          "output_type": "stream",
          "name": "stderr",
          "text": [
            "\r 98%|█████████▊| 489/501 [1:21:55<02:23, 11.93s/it]"
          ]
        },
        {
          "output_type": "stream",
          "name": "stdout",
          "text": [
            "ground truth: no, predictions: ['no', 'yes']\n",
            "total: 489, correct: {1: 284, 3: 324, 5: 325}\n",
            "BOX0=LOC(image=IMAGE,object='man')\n",
            "IMAGE0=CROP_RIGHTOF(image=IMAGE,box=BOX0)\n",
            "BOX1=LOC(image=IMAGE0,object='microphone')\n",
            "ANSWER0=COUNT(box=BOX1)\n",
            "ANSWER1=EVAL(expr=\"'yes' if {ANSWER0} > 0 else 'no'\")\n",
            "FINAL_RESULT=RESULT(var=ANSWER1)\n"
          ]
        },
        {
          "output_type": "stream",
          "name": "stderr",
          "text": [
            "\r 98%|█████████▊| 490/501 [1:21:57<01:40,  9.12s/it]"
          ]
        },
        {
          "output_type": "stream",
          "name": "stdout",
          "text": [
            "ground truth: no, predictions: ['no', 'yes']\n",
            "total: 490, correct: {1: 285, 3: 325, 5: 326}\n",
            "BOX0=LOC(image=IMAGE,object='bag')\n",
            "ANSWER0=COUNT(box=BOX0)\n",
            "ANSWER1=EVAL(expr=\"'yes' if {ANSWER0} > 0 else 'no'\")\n",
            "FINAL_RESULT=RESULT(var=ANSWER1)\n"
          ]
        },
        {
          "output_type": "stream",
          "name": "stderr",
          "text": [
            "\r 98%|█████████▊| 491/501 [1:22:01<01:13,  7.37s/it]"
          ]
        },
        {
          "output_type": "stream",
          "name": "stdout",
          "text": [
            "ground truth: right, predictions: ['no']\n",
            "total: 491, correct: {1: 285, 3: 325, 5: 326}\n",
            "BOX0=LOC(image=IMAGE,object='LEFT')\n",
            "IMAGE0=CROP(image=IMAGE,box=BOX0)\n",
            "BOX1=LOC(image=IMAGE0,object='screen')\n",
            "ANSWER0=COUNT(box=BOX1)\n",
            "ANSWER1=EVAL(expr=\"'left' if {ANSWER0} > 0 else 'right'\")\n",
            "FINAL_RESULT=RESULT(var=ANSWER1)\n"
          ]
        },
        {
          "output_type": "stream",
          "name": "stderr",
          "text": [
            "\r 98%|█████████▊| 492/501 [1:22:07<01:03,  7.01s/it]"
          ]
        },
        {
          "output_type": "stream",
          "name": "stdout",
          "text": [
            "ground truth: yes, predictions: ['no']\n",
            "total: 492, correct: {1: 285, 3: 325, 5: 326}\n",
            "BOX0=LOC(image=IMAGE,object='house')\n",
            "IMAGE0=CROP(image=IMAGE,box=BOX0)\n",
            "ANSWER0=VQA(image=IMAGE0,question='What color is the house?')\n",
            "ANSWER1=EVAL(expr=\"'yes' if {ANSWER0} == 'brown' else 'no'\")\n",
            "FINAL_RESULT=RESULT(var=ANSWER1)\n"
          ]
        },
        {
          "output_type": "stream",
          "name": "stderr",
          "text": [
            "\r 98%|█████████▊| 493/501 [1:22:09<00:45,  5.65s/it]"
          ]
        },
        {
          "output_type": "stream",
          "name": "stdout",
          "text": [
            "ground truth: no, predictions: ['no']\n",
            "total: 493, correct: {1: 286, 3: 326, 5: 327}\n",
            "BOX0=LOC(image=IMAGE,object='bicycle')\n",
            "ANSWER0=COUNT(box=BOX0)\n",
            "ANSWER1=EVAL(expr=\"'yes' if {ANSWER0} > 0 else 'no'\")\n",
            "FINAL_RESULT=RESULT(var=ANSWER1)\n"
          ]
        },
        {
          "output_type": "stream",
          "name": "stderr",
          "text": [
            "\r 99%|█████████▊| 494/501 [1:22:12<00:34,  4.93s/it]"
          ]
        },
        {
          "output_type": "stream",
          "name": "stdout",
          "text": [
            "ground truth: yes, predictions: ['no']\n",
            "total: 494, correct: {1: 286, 3: 326, 5: 327}\n",
            "BOX0=LOC(image=IMAGE,object='dog')\n",
            "IMAGE0=CROP(image=IMAGE,box=BOX0)\n",
            "ANSWER0=VQA(image=IMAGE0,question='What color is the dog?')\n",
            "ANSWER1=EVAL(expr=\"'yes' if {ANSWER0} != 'brown' else 'no'\")\n",
            "FINAL_RESULT=RESULT(var=ANSWER1)\n"
          ]
        },
        {
          "output_type": "stream",
          "name": "stderr",
          "text": [
            "\r 99%|█████████▉| 495/501 [1:22:19<00:31,  5.33s/it]"
          ]
        },
        {
          "output_type": "stream",
          "name": "stdout",
          "text": [
            "ground truth: no, predictions: ['no', 'yes']\n",
            "total: 495, correct: {1: 287, 3: 327, 5: 328}\n",
            "BOX0=LOC(image=IMAGE,object='white desk')\n",
            "BOX1=LOC(image=IMAGE,object='white chair')\n",
            "ANSWER0=COUNT(box=BOX0)\n",
            "ANSWER1=COUNT(box=BOX1)\n",
            "ANSWER2=EVAL(expr=\"'yes' if {ANSWER0} + {ANSWER1} > 0 else 'no'\")\n",
            "FINAL_RESULT=RESULT(var=ANSWER2)\n"
          ]
        },
        {
          "output_type": "stream",
          "name": "stderr",
          "text": [
            "\r 99%|█████████▉| 496/501 [1:22:29<00:34,  6.91s/it]"
          ]
        },
        {
          "output_type": "stream",
          "name": "stdout",
          "text": [
            "ground truth: yes, predictions: ['no', 'yes']\n",
            "total: 496, correct: {1: 287, 3: 328, 5: 329}\n",
            "BOX0=LOC(image=IMAGE,object='table')\n",
            "IMAGE0=CROP(image=IMAGE,box=BOX0)\n",
            "BOX1=LOC(image=IMAGE0,object='bowls')\n",
            "ANSWER0=COUNT(box=BOX1)\n",
            "ANSWER1=EVAL(expr=\"'yes' if {ANSWER0} > 0 else 'no'\")\n",
            "FINAL_RESULT=RESULT(var=ANSWER1)\n"
          ]
        },
        {
          "output_type": "stream",
          "name": "stderr",
          "text": [
            "\r 99%|█████████▉| 497/501 [1:24:58<03:18, 49.53s/it]"
          ]
        },
        {
          "output_type": "stream",
          "name": "stdout",
          "text": [
            "ground truth: yes, predictions: ['no', 'yes']\n",
            "total: 497, correct: {1: 287, 3: 329, 5: 330}\n",
            "BOX0=LOC(image=IMAGE,object='children')\n",
            "IMAGE0=CROP_RIGHTOF(image=IMAGE,box=BOX0)\n",
            "BOX1=LOC(image=IMAGE0,object='horse')\n",
            "IMAGE1=CROP_RIGHTOF(image=IMAGE0,box=BOX1)\n",
            "BOX2=LOC(image=IMAGE1,object='flag')\n",
            "ANSWER0=COUNT(box=BOX2)\n",
            "ANSWER1=EVAL(expr=\"'yes' if {ANSWER0} > 0 else 'no'\")\n",
            "FINAL_RESULT=RESULT(var=ANSWER1)\n"
          ]
        },
        {
          "output_type": "stream",
          "name": "stderr",
          "text": [
            "\r 99%|█████████▉| 498/501 [1:25:14<01:57, 39.28s/it]"
          ]
        },
        {
          "output_type": "stream",
          "name": "stdout",
          "text": [
            "ground truth: no, predictions: ['no']\n",
            "total: 498, correct: {1: 288, 3: 330, 5: 331}\n",
            "BOX0=LOC(image=IMAGE,object='white vehicle')\n",
            "IMAGE0=CROP_RIGHTOF(image=IMAGE,box=BOX0)\n",
            "BOX1=LOC(image=IMAGE0,object='bags')\n",
            "ANSWER0=COUNT(box=BOX1)\n",
            "ANSWER1=EVAL(expr=\"'yes' if {ANSWER0} > 0 else 'no'\")\n",
            "FINAL_RESULT=RESULT(var=ANSWER1)\n"
          ]
        },
        {
          "output_type": "stream",
          "name": "stderr",
          "text": [
            "\r100%|█████████▉| 499/501 [1:25:30<01:04, 32.35s/it]"
          ]
        },
        {
          "output_type": "stream",
          "name": "stdout",
          "text": [
            "ground truth: yes, predictions: ['yes']\n",
            "total: 499, correct: {1: 289, 3: 331, 5: 332}\n",
            "BOX0=LOC(image=IMAGE,object='hydrant')\n",
            "IMAGE0=CROP_RIGHTOF(image=IMAGE,box=BOX0)\n",
            "BOX1=LOC(image=IMAGE0,object='person')\n",
            "IMAGE1=CROP(image=IMAGE0,box=BOX1)\n",
            "ANSWER0=VQA(image=IMAGE1,question='Is the person wearing a jacket?')\n",
            "FINAL_RESULT=RESULT(var=ANSWER0)\n"
          ]
        },
        {
          "output_type": "stream",
          "name": "stderr",
          "text": [
            "\r100%|█████████▉| 500/501 [1:25:45<00:27, 27.18s/it]"
          ]
        },
        {
          "output_type": "stream",
          "name": "stdout",
          "text": [
            "ground truth: yes, predictions: ['no', 'yes']\n",
            "total: 500, correct: {1: 289, 3: 332, 5: 333}\n",
            "BOX0=LOC(image=IMAGE,object='LEFT')\n",
            "IMAGE0=CROP(image=IMAGE,box=BOX0)\n",
            "BOX1=LOC(image=IMAGE0,object='picture')\n",
            "ANSWER0=COUNT(box=BOX1)\n",
            "ANSWER1=EVAL(expr=\"'yes' if {ANSWER0} > 0 else 'no'\")\n",
            "FINAL_RESULT=RESULT(var=ANSWER1)\n"
          ]
        },
        {
          "output_type": "stream",
          "name": "stderr",
          "text": [
            "100%|██████████| 501/501 [1:25:50<00:00, 10.28s/it]"
          ]
        },
        {
          "output_type": "stream",
          "name": "stdout",
          "text": [
            "ground truth: table, predictions: ['table']\n",
            "total: 501, correct: {1: 290, 3: 333, 5: 334}\n",
            "BOX0=LOC(image=IMAGE,object='furniture')\n",
            "IMAGE0=CROP(image=IMAGE,box=BOX0)\n",
            "ANSWER0=VQA(image=IMAGE0,question='What is this item of furniture called?')\n",
            "FINAL_RESULT=RESULT(var=ANSWER0)\n",
            "501\n",
            "{1: 290, 3: 333, 5: 334}\n",
            "{'19220961': ['chair', 'bench'], '07267508': ['table', 'bottle'], '15512494': ['no', 'no'], '00464293': ['no', 'yes', 'yes'], '10233633': ['no', 'yes', 'yes'], '1679555': ['no', 'yes'], '13852280': ['no', 'yes', 'no'], '151004785': ['modern', 'antique'], '01248326': ['yes', 'no', 'no'], '12976953': ['no', 'yes', 'no'], '17908046': ['no', 'yes', 'no'], '05712037': ['no', 'yes'], '05673874': ['brown', 'black', 'brown'], '06407231': ['yes', 'no', 'yes'], '12863527': ['no', 'no'], '04587867': ['short', 'long'], '1923285': ['no', 'yes'], '07794099': ['no', 'blue'], '01776009': ['no', 'yes'], '04711033': ['no', 'no'], '14596273': ['yes', 'no', 'yes'], '14892279': ['no', 'no'], '13389301': ['no', 'no'], '02620100': ['no', 'yes', 'no'], '10956726': ['no', 'yes', 'no'], '11116526': ['no', 'no'], '19551995': ['no', 'yes'], '18768487': ['no', 'no'], '02100880': ['no', 'yes'], '06841755': ['no', 'yes', 'no'], '02156784': ['no', 'yes', 'yes'], '00356383': ['no', 'yes'], '15581454': ['yes', 'no', 'yes'], '10426286': ['no', 'yes'], '17819175': ['no', 'no'], '1765395': ['no', 'yes'], '12692722': ['right', 'left', 'right'], '00453578': ['water', 'wine', 'wine'], '05957063': ['no', 'no'], '0489794': ['short', 'tall', 'tall'], '10809246': ['no', 'yes'], '02454009': ['no', 'yes'], '06491648': ['no', 'yes'], '06252328': ['no', 'yes'], '07584867': ['no', 'tomato'], '16587305': ['no', 'right'], '09698817': ['standing', 'standing'], '01352964': ['no', 'wall'], '14838655': ['bed', 'table'], '03958249': ['no', 'no'], '16129055': ['no', 'no'], '1260626': ['no', 'yes'], '10887449': ['no', 'yes'], '10351951': ['yes', 'no', 'yes'], '04301392': ['no', 'no'], '14775879': ['no', 'yes'], '04402973': ['no', 'yes'], '02291924': ['no', 'no'], '10895012': ['no', 'no'], '16211063': ['no', 'yes', 'no'], '03325137': ['no', 'no'], '10263703': ['no', 'yes', 'yes'], '00240609': ['no', 'rubber duck'], '02692835': ['no', 'no'], '02506846': ['no', 'yes'], '00905298': ['no', 'no'], '13769456': ['no', 'yes'], '05489260': ['no', 'no'], '10643666': ['no', 'yes'], '18216628': ['no', 'no'], '0299890': ['no', 'elephant'], '18787374': ['no', 'no'], '15892838': ['no', 'no'], '13582222': ['no', 'no'], '13687342': ['no', 'no'], '12493418': ['no', 'no'], '09274228': ['no', 'right'], '14689395': ['yes', 'yes'], '13185688': ['no', 'no'], '15496417': ['no', 'no'], '14553987': ['no', 'red'], '17503005': ['no', 'no'], '14624121': ['no', 'no'], '15475491': ['no', 'no'], '16672169': ['blue', 'blue'], '05341180': ['no', 'no'], '17846405': ['bus', 'bus'], '01973635': ['yes', 'no', 'yes'], '11664361': ['no', 'yes'], '13957209': ['no', 'left'], '04241548': ['no', 'yes'], '16965513': ['no', 'yes'], '04469858': ['no', 'yes', 'no'], '05450044': ['phone', 'umbrella', 'laptop'], '01549286': ['no', 'no'], '07319675': ['no', 'yes', 'no'], '1679381': ['no', 'yes'], '08633786': ['no', 'no'], '19503999': ['no', 'yes'], '07789999': ['no', 'no'], '07902693': ['no', 'yes', 'no'], '1123960': ['no', 'no'], '0950743': ['no', 'yes'], '06576330': ['no', 'no'], '07657720': ['left', 'right', 'right'], '1956166': ['no', 'no'], '04426063': ['no', 'yes'], '00643321': ['no', 'yes', 'no'], '10833762': ['no', 'no'], '12680483': ['no', 'no'], '08598481': ['no', 'no'], '0043367': ['stripes', 'solid', 'checkered', 'striped', 'striped'], '08117704': ['no', 'no'], '14842344': ['no', 'yes', 'no'], '14105268': ['no', 'cabinets'], '1063527': ['right', 'left', 'right'], '161065641': ['black', 'gray', 'black'], '01213080': ['yes', 'no', 'yes'], '00462965': ['no', 'no'], '07347633': ['no', 'no'], '15861991': ['no', 'yes', 'yes'], '03556638': ['yes', 'no', 'yes'], '061044812': ['no', 'no'], '19651225': ['yes', 'yes'], '01578722': ['no', 'no'], '00885366': ['no', 'yes'], '05308142': ['table', 'table'], '10677392': ['no', 'right'], '03570105': ['yes', 'no', 'yes'], '18694829': ['no', 'no'], '10177875': ['no', 'yes', 'yes'], '19485261': ['left', 'right', 'right'], '05447643': ['no', 'table'], '12567333': ['no', 'no'], '11357161': ['table', 'table'], '1853259': ['no', 'no'], '11888509': ['no', 'yes'], '18753996': ['no', 'no'], '19325929': ['no', 'blue'], '02477837': ['no', 'no'], '1563903': ['no', 'yes'], '06859600': ['no', 'yes'], '04731032': ['no', 'no'], '11691849': ['no', 'yes', 'yes'], '02660518': ['no', 'yes', 'no'], '0588190': ['no', 'no'], '06481514': ['no', 'no'], '19476819': ['no', 'yes', 'yes'], '05107909': ['no', 'yes'], '06242826': ['no', 'yes'], '16501870': ['no', 'no'], '061011753': ['yes', 'no', 'yes'], '16199387': ['no', 'yes'], '15676935': ['pizza', 'pizza'], '061048518': ['yes', 'no', 'yes'], '17737009': ['blue', 'black'], '181034911': ['yes', 'yes'], '01137607': ['no', 'yes', 'no'], '06284139': ['no', 'yes', 'yes'], '18792368': ['table', 'table'], '14127926': ['yes', 'no', 'yes'], '1251314': ['no', 'no'], '1798841': ['no', 'no'], '09210875': ['no', 'yes'], '18597134': ['no', 'cabinet'], '02729508': ['no', 'yes'], '0086024': ['no', 'no'], '00627190': ['no', 'yes'], '1192415': ['car', 'bus', 'truck', 'bus'], '07541447': ['no', 'yes', 'no'], '18336602': ['no', 'no'], '03827972': ['no', 'no'], '02723748': ['no', 'yes', 'no'], '18641622': ['no', 'no'], '16777824': ['yes', 'yes'], '1222545': ['yes', 'yes'], '03328077': ['no', 'yes', 'no'], '18942181': ['left', 'left'], '13399862': ['no', 'yes'], '18307185': ['no', 'yes'], '05771983': ['no', 'no'], '07922875': ['no', 'yes'], '1444710': ['donut', 'donut'], '19155356': ['yes', 'yes'], '06106902': ['no', 'yes', 'yes'], '04690548': ['no', 'yes'], '17287690': ['no', 'no'], '10213185': ['left', 'right', 'left'], '00727241': ['no', 'no'], '11124623': ['no', 'no'], '00958891': ['no', 'no'], '05809308': ['yes', 'no'], '19917962': ['no', 'yes', 'yes'], '10487959': ['no', 'yes', 'no'], '08671111': ['no', 'yes'], '06796354': ['no', 'yes'], '09534811': ['no', 'yes'], '061046013': ['no', 'yes', 'no'], '16491942': ['no', 'no'], '19622914': ['no', 'yes'], '01914569': ['man', 'lady'], '18853789': ['table', 'table'], '0149335': ['no', 'no'], '04698214': ['no', 'yes'], '03402547': ['uniform', 'helmet'], '16124301': ['floor', 'floor'], '13592880': ['no', 'no'], '08314510': ['no', 'no'], '06160120': ['woman', 'woman'], '071051170': ['no', 'white'], '051632': ['no', 'yes'], '17247357': ['bathroom', 'bathroom'], '10355396': ['no', 'no'], '02415965': ['no', 'yes', 'no'], '07222450': ['no', 'yes'], '01240056': ['outdoors', 'outdoors'], '19414413': ['no', 'no'], '03933970': ['clear', 'clear'], '01531353': ['blue', 'yellow', 'red', 'white', 'yellow'], '17408864': ['no', 'no'], '16614646': ['no', 'no'], '18196856': ['no', 'no'], '01241383': ['no', 'standing'], '13576851': ['no', 'yes'], '19175409': ['no', 'no'], '11931098': ['no', 'no'], '18430950': ['no', 'yes', 'yes'], '07268980': ['overcast', 'overcast'], '06980700': ['no', 'yes'], '19733319': ['no', 'yes'], '15856062': ['no', 'no'], '191004566': ['no', 'no'], '15204001': ['dog', 'dog'], '15612998': ['no', 'left'], '13274348': ['no', 'no'], '05745216': ['no', 'yes', 'no'], '05349391': ['no', 'gray'], '01117603': ['no', 'yes'], '08215274': ['no', 'no'], '17622934': ['no', 'yes'], '15428806': ['no', 'yes'], '17902757': ['no', 'no'], '19496391': ['no', 'no'], '18585181': ['no', 'yes'], '14679307': ['yes', 'yes'], '18436868': ['no', 'no'], '07215893': ['surfboard', 'surfboard'], '09699916': ['no', 'no'], '05393953': ['woman', 'woman'], '141028637': ['man', 'man'], '15704613': ['no', 'no'], '0388960': ['no', 'no'], '19448493': ['yes', 'yes'], '11653005': ['no', 'no'], '02519602': ['right', 'left', 'right'], '02943018': ['no', 'no'], '02314219': ['yes', 'yes'], '00626922': ['no', 'yes', 'no'], '17285689': ['no', 'no'], '0034322': ['no', 'no'], '01465002': ['no', 'yes'], '07756208': ['no', 'bottom'], '07208934': ['no', 'yes'], '13370689': ['table', 'table'], '00265605': ['no', 'no'], '06581949': ['no', 'yes'], '18120444': ['yes', 'no'], '01872793': ['bathroom', 'bathroom'], '0919543': ['no', 'yes', 'no'], '0611857': ['no', 'no'], '06631864': ['no', 'yes'], '14829053': ['no', 'no'], '0119391': ['no', 'no'], '00667562': ['no', 'no'], '03686375': ['no', 'no'], '04616688': ['no', 'green'], '022814': ['no', 'yes'], '09794173': ['no', 'yes'], '18264280': ['no', 'no'], '03592812': ['no', 'bottom'], '05624603': ['no', 'yes'], '05349685': ['no', 'yes', 'no'], '0934608': ['no', 'yes'], '09307880': ['no', 'yes', 'no'], '00751379': ['yes', 'no', 'yes'], '01823211': ['yes', 'no', 'yes'], '12645009': ['no', 'green'], '17104757': ['no', 'yes'], '13868589': ['no', 'no'], '17533456': ['no', 'yes'], '01264949': ['no', 'yes'], '03696767': ['table', 'table'], '02616363': ['yes', 'no', 'yes'], '1876420': ['no', 'no'], '10293096': ['no', 'yes'], '0447758': ['no', 'no'], '00846384': ['no', 'white'], '141040590': ['no', 'yes'], '15480577': ['no', 'yes'], '03687047': ['shorts', 'shorts'], '00693230': ['no', 'yes', 'no'], '01743299': ['no', 'yes', 'no'], '15984235': ['no', 'yes'], '00380369': ['no', 'yes'], '03766423': ['no', 'yes', 'no'], '00660442': ['no', 'yes', 'yes'], '12741383': ['no', 'yes'], '031041454': ['no', 'no'], '18534228': ['no', 'no'], '09507804': ['yes', 'no'], '15854973': ['no', 'no'], '15757301': ['no', 'yes', 'no'], '13177233': ['no', 'no'], '16808474': ['no', 'no'], '02644865': ['no', 'right'], '08534516': ['no', 'no'], '08790563': ['no', 'no'], '01503226': ['kitchen', 'bed', 'sink', 'couch', 'chair', 'cabinet'], '10147996': ['no', 'no'], '151031817': ['no', 'yes', 'no'], '02413784': ['no', 'yes'], '19294178': ['table', 'dining table'], '01214448': ['no', 'yes'], '11692767': ['no', 'yes'], '001048431': ['no', 'top'], '18789977': ['metal', 'metal'], '16842758': ['yes', 'yes'], '0720668': ['no', 'yes'], '19775850': ['yes', 'yes'], '13677039': ['no', 'no'], '13890139': ['no', 'no'], '00354634': ['plate', 'countertop'], '03849646': ['no', 'black'], '05542021': ['yes', 'yes'], '19415913': ['yes', 'no', 'no'], '05772112': ['yes', 'yes'], '02543417': ['no', 'yes'], '08105995': ['no', 'yes', 'no'], '03985538': ['green', 'green'], '04676367': ['no', 'no'], '07228492': ['no', 'yes'], '09829698': ['silver', 'black', 'blue'], '01275976': ['outdoors', 'outdoors'], '07464038': ['no', 'yes', 'no'], '01166204': ['no', 'no'], '0766772': ['no', 'no'], '08860235': ['yes', 'no', 'yes'], '10373906': ['no', 'yes', 'yes'], '00439192': ['no', 'yes'], '111051385': ['yes', 'yes'], '05677299': ['yes', 'no', 'yes'], '10281172': ['no', 'yes', 'yes'], '15920755': ['no', 'yes', 'yes'], '0525828': ['no', 'white'], '10404453': ['no', 'yes'], '07682516': ['no', 'yes', 'no'], '00324785': ['no', 'top'], '14888082': ['no', 'no'], '03977884': ['no', 'yes', 'yes'], '02663410': ['no', 'no'], '16202143': ['no', 'yes'], '15889742': ['no', 'yes'], '01769473': ['no', 'no'], '06808264': ['no', 'no'], '11952435': ['bridge', 'street'], '14215077': ['no', 'no'], '17852974': ['sign', 'picture frame'], '10306007': ['phone', 'laptop', 'guitar', 'cell phone'], '03603828': ['yes', 'no'], '10305862': ['no', 'yes', 'yes'], '1646624': ['no', 'no'], '16355655': ['no', 'yes', 'no'], '0790513': ['yes', 'no', 'yes'], '18369644': ['jacket', 'snowsuit', 'skis'], '11793594': ['no', 'left'], '101041999': ['no', 'no'], '18429857': ['no', 'no'], '02803950': ['no', 'no'], '1949171': ['no', 'no'], '12783314': ['no', 'yes'], '03794351': ['yes', 'no', 'yes'], '19577038': ['no', 'no'], '03973196': ['shirt', 'eye glasses'], '14620424': ['no', 'no'], '081026189': ['yes', 'no'], '05691787': ['no', 'no'], '13584581': ['no', 'yes'], '12990918': ['no', 'no'], '13533841': ['no', 'no'], '16134636': ['no', 'no'], '14983479': ['yes', 'no', 'yes'], '02844510': ['yes', 'yes'], '00653461': ['baseball field', 'field'], '14120450': ['no', 'yes'], '00675397': ['no', 'no'], '08171521': ['yes', 'yes'], '0723321': ['no', 'no'], '18310548': ['gray', 'brown'], '08354448': ['no', 'no'], '05783123': ['no', 'yes'], '0068430': ['no', 'yes', 'no'], '03644899': ['no', 'yes'], '01465414': ['no', 'no'], '18943258': ['no', 'no'], '17781994': ['no', 'yes'], '161029503': ['no', 'no'], '05191339': ['no', 'yes', 'no'], '01381904': ['no', 'white'], '18205594': ['yes', 'yes'], '13768774': ['yes', 'no', 'no'], '14644583': ['no', 'no'], '00881217': ['boy', 'boy'], '18135603': ['no', 'no'], '19201241': ['no', 'yes'], '04529189': ['yes', 'no', 'yes'], '041048597': ['no', 'no'], '017962': ['no', 'no'], '09215451': ['no', 'no'], '04322492': ['left', 'right'], '11311284': ['girl', 'man'], '141037805': ['no', 'no'], '14276767': ['no', 'no'], '08608163': ['no', 'cabinet'], '04470649': ['no', 'yes'], '16416696': ['no', 'yes', 'yes'], '11549105': ['left', 'left'], '07752893': ['no', 'no'], '00517974': ['no', 'no'], '11944876': ['no', 'yes'], '16373879': ['yes', 'no', 'yes'], '05255118': ['no', 'yes'], '09439608': ['no', 'no'], '04294803': ['right', 'left', 'right'], '12813280': ['no', 'yes'], '03588756': ['no', 'yes', 'yes'], '16228330': ['small', 'large'], '02819773': ['no', 'yes'], '19899933': ['no', 'no'], '03178103': ['no', 'no'], '19700247': ['no', 'yes'], '121020079': ['dresser', 'dresser'], '10461890': ['yes', 'no', 'no'], '15206284': ['no', 'yes'], '11541352': ['no', 'no'], '14808496': ['no', 'no'], '18435430': ['no', 'no'], '1984218': ['no', 'yes'], '09259450': ['no', 'no'], '031060110': ['yes', 'no', 'no'], '19854847': ['no', 'small'], '101055194': ['yes', 'no'], '17805151': ['no', 'no'], '17941602': ['red white and blue', 'yellow', 'red', 'orange', 'blue', 'red'], '08609191': ['yes', 'no'], '0950129': ['no', 'no'], '01923673': ['no', 'yes', 'yes'], '03750044': ['yes', 'no', 'yes'], '16707965': ['no', 'no'], '15738520': ['no', 'yes', 'no'], '14673260': ['no', 'yes', 'no'], '09544914': ['no', 'yes'], '0557773': ['no', 'no'], '0127672': ['no', 'no'], '00509828': ['no', 'no'], '1489149': ['no', 'yes', 'no'], '11703924': ['no', 'yes', 'yes'], '051055846': ['yes', 'no', 'no'], '19845459': ['no', 'giraffe'], '03649241': ['no', 'left'], '041017527': ['no', 'yes', 'no'], '07805099': ['no', 'no'], '15244911': ['no', 'no'], '18780792': ['table', 'table'], '06955103': ['no', 'right'], '0463590': ['no', 'no'], '18253633': ['black', 'black'], '12120288': ['no', 'yes', 'yes'], '17701242': ['no', 'no'], '081024172': ['no', 'yes', 'yes'], '16800532': ['yes', 'no', 'yes'], '14886938': ['no', 'yes'], '06824882': ['no', 'yes'], '13953333': ['yes', 'no', 'no'], '00563505': ['bike', 'bag', 'sign', 'nothing', 'sign'], '091018805': ['no', 'yes', 'yes'], '12402744': ['no', 'yes', 'yes'], '17686363': ['no', 'yes'], '05602933': ['yes', 'no'], '19671697': ['no', 'yes', 'no'], '00405615': ['no', 'yes', 'no'], '0060992': ['no', 'right'], '03482831': ['no', 'yes'], '0275780': ['no', 'no'], '0020152': ['no', 'yes'], '16437319': ['no', 'yes', 'no'], '0472473': ['no', 'yes', 'yes'], '12410695': ['no', 'yes', 'yes'], '00999412': ['no', 'no'], '18278787': ['yes', 'yes'], '18981935': ['no', 'yes', 'yes'], '01903994': ['table', 'table']}\n"
          ]
        },
        {
          "output_type": "stream",
          "name": "stderr",
          "text": [
            "\n"
          ]
        }
      ]
    },
    {
      "cell_type": "markdown",
      "source": [
        "# Performance\n",
        "\n",
        "Here we report the score under Recall@$k$ metric, where $k = 1, 3, 5$."
      ],
      "metadata": {
        "id": "-btyL4vM4Kn3"
      }
    },
    {
      "cell_type": "code",
      "source": [
        "# Print result\n",
        "print(\"Recall@1:\", correct[1] / total)\n",
        "print(\"Recall@3:\", correct[3] / total)\n",
        "print(\"Recall@5:\", correct[5] / total)"
      ],
      "metadata": {
        "colab": {
          "base_uri": "https://localhost:8080/"
        },
        "id": "-wTm5u9N1jVv",
        "outputId": "15688655-9327-436a-9503-8612c6baad2a"
      },
      "execution_count": 10,
      "outputs": [
        {
          "output_type": "stream",
          "name": "stdout",
          "text": [
            "Recall@1: 0.5788423153692615\n",
            "Recall@3: 0.6646706586826348\n",
            "Recall@5: 0.6666666666666666\n"
          ]
        }
      ]
    }
  ]
}
